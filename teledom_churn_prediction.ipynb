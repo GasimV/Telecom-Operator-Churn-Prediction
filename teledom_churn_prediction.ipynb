{
 "cells": [
  {
   "cell_type": "markdown",
   "metadata": {},
   "source": [
    "# Проект Телеком"
   ]
  },
  {
   "cell_type": "code",
   "execution_count": 1,
   "metadata": {},
   "outputs": [],
   "source": [
    "import pandas as pd\n",
    "from sqlalchemy import create_engine\n",
    "import matplotlib.pyplot as plt\n",
    "from sklearn.metrics import confusion_matrix, precision_recall_curve, accuracy_score\n",
    "import seaborn as sns\n",
    "from sklearn.preprocessing import LabelEncoder, StandardScaler\n",
    "from sklearn.model_selection import train_test_split\n",
    "from sklearn.tree import DecisionTreeClassifier\n",
    "from sklearn.ensemble import RandomForestClassifier\n",
    "from xgboost import XGBClassifier\n",
    "from sklearn.metrics import roc_auc_score\n",
    "from sklearn.model_selection import cross_val_score\n",
    "from sklearn.impute import SimpleImputer\n",
    "import torch\n",
    "import torch.nn as nn\n",
    "import torch.nn.functional as F\n",
    "from torch.utils.data import DataLoader, TensorDataset\n",
    "from sklearn.metrics import roc_auc_score\n",
    "import optuna\n",
    "import torch.optim as optim"
   ]
  },
  {
   "cell_type": "markdown",
   "metadata": {},
   "source": [
    "## 1. Извлечение данных"
   ]
  },
  {
   "cell_type": "code",
   "execution_count": 2,
   "metadata": {},
   "outputs": [
    {
     "data": {
      "text/html": [
       "<div>\n",
       "<style scoped>\n",
       "    .dataframe tbody tr th:only-of-type {\n",
       "        vertical-align: middle;\n",
       "    }\n",
       "\n",
       "    .dataframe tbody tr th {\n",
       "        vertical-align: top;\n",
       "    }\n",
       "\n",
       "    .dataframe thead th {\n",
       "        text-align: right;\n",
       "    }\n",
       "</style>\n",
       "<table border=\"1\" class=\"dataframe\">\n",
       "  <thead>\n",
       "    <tr style=\"text-align: right;\">\n",
       "      <th></th>\n",
       "      <th>schemaname</th>\n",
       "      <th>tablename</th>\n",
       "      <th>tableowner</th>\n",
       "      <th>tablespace</th>\n",
       "      <th>hasindexes</th>\n",
       "      <th>hasrules</th>\n",
       "      <th>hastriggers</th>\n",
       "      <th>rowsecurity</th>\n",
       "    </tr>\n",
       "  </thead>\n",
       "  <tbody>\n",
       "    <tr>\n",
       "      <th>0</th>\n",
       "      <td>steel</td>\n",
       "      <td>data_arc</td>\n",
       "      <td>praktikum_admin</td>\n",
       "      <td>None</td>\n",
       "      <td>False</td>\n",
       "      <td>False</td>\n",
       "      <td>False</td>\n",
       "      <td>False</td>\n",
       "    </tr>\n",
       "    <tr>\n",
       "      <th>1</th>\n",
       "      <td>steel</td>\n",
       "      <td>data_bulk</td>\n",
       "      <td>praktikum_admin</td>\n",
       "      <td>None</td>\n",
       "      <td>False</td>\n",
       "      <td>False</td>\n",
       "      <td>False</td>\n",
       "      <td>False</td>\n",
       "    </tr>\n",
       "    <tr>\n",
       "      <th>2</th>\n",
       "      <td>steel</td>\n",
       "      <td>data_bulk_time</td>\n",
       "      <td>praktikum_admin</td>\n",
       "      <td>None</td>\n",
       "      <td>False</td>\n",
       "      <td>False</td>\n",
       "      <td>False</td>\n",
       "      <td>False</td>\n",
       "    </tr>\n",
       "    <tr>\n",
       "      <th>3</th>\n",
       "      <td>steel</td>\n",
       "      <td>data_gas</td>\n",
       "      <td>praktikum_admin</td>\n",
       "      <td>None</td>\n",
       "      <td>False</td>\n",
       "      <td>False</td>\n",
       "      <td>False</td>\n",
       "      <td>False</td>\n",
       "    </tr>\n",
       "    <tr>\n",
       "      <th>4</th>\n",
       "      <td>steel</td>\n",
       "      <td>data_temp</td>\n",
       "      <td>praktikum_admin</td>\n",
       "      <td>None</td>\n",
       "      <td>False</td>\n",
       "      <td>False</td>\n",
       "      <td>False</td>\n",
       "      <td>False</td>\n",
       "    </tr>\n",
       "    <tr>\n",
       "      <th>5</th>\n",
       "      <td>steel</td>\n",
       "      <td>data_wire</td>\n",
       "      <td>praktikum_admin</td>\n",
       "      <td>None</td>\n",
       "      <td>False</td>\n",
       "      <td>False</td>\n",
       "      <td>False</td>\n",
       "      <td>False</td>\n",
       "    </tr>\n",
       "    <tr>\n",
       "      <th>6</th>\n",
       "      <td>steel</td>\n",
       "      <td>data_wire_time</td>\n",
       "      <td>praktikum_admin</td>\n",
       "      <td>None</td>\n",
       "      <td>False</td>\n",
       "      <td>False</td>\n",
       "      <td>False</td>\n",
       "      <td>False</td>\n",
       "    </tr>\n",
       "    <tr>\n",
       "      <th>7</th>\n",
       "      <td>telecom</td>\n",
       "      <td>contract</td>\n",
       "      <td>praktikum_admin</td>\n",
       "      <td>None</td>\n",
       "      <td>False</td>\n",
       "      <td>False</td>\n",
       "      <td>False</td>\n",
       "      <td>False</td>\n",
       "    </tr>\n",
       "    <tr>\n",
       "      <th>8</th>\n",
       "      <td>telecom</td>\n",
       "      <td>internet</td>\n",
       "      <td>praktikum_admin</td>\n",
       "      <td>None</td>\n",
       "      <td>False</td>\n",
       "      <td>False</td>\n",
       "      <td>False</td>\n",
       "      <td>False</td>\n",
       "    </tr>\n",
       "    <tr>\n",
       "      <th>9</th>\n",
       "      <td>telecom</td>\n",
       "      <td>personal</td>\n",
       "      <td>praktikum_admin</td>\n",
       "      <td>None</td>\n",
       "      <td>False</td>\n",
       "      <td>False</td>\n",
       "      <td>False</td>\n",
       "      <td>False</td>\n",
       "    </tr>\n",
       "    <tr>\n",
       "      <th>10</th>\n",
       "      <td>telecom</td>\n",
       "      <td>phone</td>\n",
       "      <td>praktikum_admin</td>\n",
       "      <td>None</td>\n",
       "      <td>False</td>\n",
       "      <td>False</td>\n",
       "      <td>False</td>\n",
       "      <td>False</td>\n",
       "    </tr>\n",
       "  </tbody>\n",
       "</table>\n",
       "</div>"
      ],
      "text/plain": [
       "   schemaname       tablename       tableowner tablespace  hasindexes  \\\n",
       "0       steel        data_arc  praktikum_admin       None       False   \n",
       "1       steel       data_bulk  praktikum_admin       None       False   \n",
       "2       steel  data_bulk_time  praktikum_admin       None       False   \n",
       "3       steel        data_gas  praktikum_admin       None       False   \n",
       "4       steel       data_temp  praktikum_admin       None       False   \n",
       "5       steel       data_wire  praktikum_admin       None       False   \n",
       "6       steel  data_wire_time  praktikum_admin       None       False   \n",
       "7     telecom        contract  praktikum_admin       None       False   \n",
       "8     telecom        internet  praktikum_admin       None       False   \n",
       "9     telecom        personal  praktikum_admin       None       False   \n",
       "10    telecom           phone  praktikum_admin       None       False   \n",
       "\n",
       "    hasrules  hastriggers  rowsecurity  \n",
       "0      False        False        False  \n",
       "1      False        False        False  \n",
       "2      False        False        False  \n",
       "3      False        False        False  \n",
       "4      False        False        False  \n",
       "5      False        False        False  \n",
       "6      False        False        False  \n",
       "7      False        False        False  \n",
       "8      False        False        False  \n",
       "9      False        False        False  \n",
       "10     False        False        False  "
      ]
     },
     "metadata": {},
     "output_type": "display_data"
    }
   ],
   "source": [
    "# Конфигурация базы данных\n",
    "db_config = {\n",
    "    'user': 'praktikum_student',\n",
    "    'pwd': 'Sdf4$2;d-d30pp',\n",
    "    'host': 'rc1b-wcoijxj3yxfsf3fs.mdb.yandexcloud.net',\n",
    "    'port': 6432,\n",
    "    'db': 'data-science-final'\n",
    "}\n",
    "\n",
    "# Создадим подключение к базе данных\n",
    "connection_string = (\n",
    "    f\"postgresql://{db_config['user']}:{db_config['pwd']}@\"\n",
    "    f\"{db_config['host']}:{db_config['port']}/{db_config['db']}\"\n",
    ")\n",
    "engine = create_engine(connection_string)\n",
    "\n",
    "# Посмотрим какие схемы и таблицы есть в этой базе данных\n",
    "query = \"SELECT * FROM pg_catalog.pg_tables WHERE schemaname != 'pg_catalog' AND schemaname != 'information_schema';\"\n",
    "available_tables = pd.read_sql_query(query, con=engine)\n",
    "display(available_tables)"
   ]
  },
  {
   "cell_type": "code",
   "execution_count": 3,
   "metadata": {},
   "outputs": [
    {
     "data": {
      "text/html": [
       "<div>\n",
       "<style scoped>\n",
       "    .dataframe tbody tr th:only-of-type {\n",
       "        vertical-align: middle;\n",
       "    }\n",
       "\n",
       "    .dataframe tbody tr th {\n",
       "        vertical-align: top;\n",
       "    }\n",
       "\n",
       "    .dataframe thead th {\n",
       "        text-align: right;\n",
       "    }\n",
       "</style>\n",
       "<table border=\"1\" class=\"dataframe\">\n",
       "  <thead>\n",
       "    <tr style=\"text-align: right;\">\n",
       "      <th></th>\n",
       "      <th>customerID</th>\n",
       "      <th>BeginDate</th>\n",
       "      <th>EndDate</th>\n",
       "      <th>Type</th>\n",
       "      <th>PaperlessBilling</th>\n",
       "      <th>PaymentMethod</th>\n",
       "      <th>MonthlyCharges</th>\n",
       "      <th>TotalCharges</th>\n",
       "    </tr>\n",
       "  </thead>\n",
       "  <tbody>\n",
       "    <tr>\n",
       "      <th>0</th>\n",
       "      <td>4472-LVYGI</td>\n",
       "      <td>2020-02-01</td>\n",
       "      <td>None</td>\n",
       "      <td>Two year</td>\n",
       "      <td>Yes</td>\n",
       "      <td>Bank transfer (automatic)</td>\n",
       "      <td>52.55</td>\n",
       "      <td>NaN</td>\n",
       "    </tr>\n",
       "    <tr>\n",
       "      <th>1</th>\n",
       "      <td>3115-CZMZD</td>\n",
       "      <td>2020-02-01</td>\n",
       "      <td>None</td>\n",
       "      <td>Two year</td>\n",
       "      <td>No</td>\n",
       "      <td>Mailed check</td>\n",
       "      <td>20.25</td>\n",
       "      <td>NaN</td>\n",
       "    </tr>\n",
       "    <tr>\n",
       "      <th>2</th>\n",
       "      <td>3668-QPYBK</td>\n",
       "      <td>2018-08-09</td>\n",
       "      <td>2019-12-01</td>\n",
       "      <td>Month-to-month</td>\n",
       "      <td>Yes</td>\n",
       "      <td>Mailed check</td>\n",
       "      <td>53.85</td>\n",
       "      <td>108.15</td>\n",
       "    </tr>\n",
       "    <tr>\n",
       "      <th>3</th>\n",
       "      <td>5709-LVOEQ</td>\n",
       "      <td>2020-02-01</td>\n",
       "      <td>None</td>\n",
       "      <td>Two year</td>\n",
       "      <td>No</td>\n",
       "      <td>Mailed check</td>\n",
       "      <td>80.85</td>\n",
       "      <td>NaN</td>\n",
       "    </tr>\n",
       "    <tr>\n",
       "      <th>4</th>\n",
       "      <td>9237-HQITU</td>\n",
       "      <td>2019-01-26</td>\n",
       "      <td>2019-11-01</td>\n",
       "      <td>Month-to-month</td>\n",
       "      <td>Yes</td>\n",
       "      <td>Electronic check</td>\n",
       "      <td>70.70</td>\n",
       "      <td>151.65</td>\n",
       "    </tr>\n",
       "  </tbody>\n",
       "</table>\n",
       "</div>"
      ],
      "text/plain": [
       "   customerID   BeginDate     EndDate            Type PaperlessBilling  \\\n",
       "0  4472-LVYGI  2020-02-01        None        Two year              Yes   \n",
       "1  3115-CZMZD  2020-02-01        None        Two year               No   \n",
       "2  3668-QPYBK  2018-08-09  2019-12-01  Month-to-month              Yes   \n",
       "3  5709-LVOEQ  2020-02-01        None        Two year               No   \n",
       "4  9237-HQITU  2019-01-26  2019-11-01  Month-to-month              Yes   \n",
       "\n",
       "               PaymentMethod  MonthlyCharges  TotalCharges  \n",
       "0  Bank transfer (automatic)           52.55           NaN  \n",
       "1               Mailed check           20.25           NaN  \n",
       "2               Mailed check           53.85        108.15  \n",
       "3               Mailed check           80.85           NaN  \n",
       "4           Electronic check           70.70        151.65  "
      ]
     },
     "metadata": {},
     "output_type": "display_data"
    },
    {
     "data": {
      "text/html": [
       "<div>\n",
       "<style scoped>\n",
       "    .dataframe tbody tr th:only-of-type {\n",
       "        vertical-align: middle;\n",
       "    }\n",
       "\n",
       "    .dataframe tbody tr th {\n",
       "        vertical-align: top;\n",
       "    }\n",
       "\n",
       "    .dataframe thead th {\n",
       "        text-align: right;\n",
       "    }\n",
       "</style>\n",
       "<table border=\"1\" class=\"dataframe\">\n",
       "  <thead>\n",
       "    <tr style=\"text-align: right;\">\n",
       "      <th></th>\n",
       "      <th>customerID</th>\n",
       "      <th>gender</th>\n",
       "      <th>SeniorCitizen</th>\n",
       "      <th>Partner</th>\n",
       "      <th>Dependents</th>\n",
       "    </tr>\n",
       "  </thead>\n",
       "  <tbody>\n",
       "    <tr>\n",
       "      <th>0</th>\n",
       "      <td>7590-VHVEG</td>\n",
       "      <td>Female</td>\n",
       "      <td>0</td>\n",
       "      <td>Yes</td>\n",
       "      <td>No</td>\n",
       "    </tr>\n",
       "    <tr>\n",
       "      <th>1</th>\n",
       "      <td>5575-GNVDE</td>\n",
       "      <td>Male</td>\n",
       "      <td>0</td>\n",
       "      <td>No</td>\n",
       "      <td>No</td>\n",
       "    </tr>\n",
       "    <tr>\n",
       "      <th>2</th>\n",
       "      <td>3668-QPYBK</td>\n",
       "      <td>Male</td>\n",
       "      <td>0</td>\n",
       "      <td>No</td>\n",
       "      <td>No</td>\n",
       "    </tr>\n",
       "    <tr>\n",
       "      <th>3</th>\n",
       "      <td>7795-CFOCW</td>\n",
       "      <td>Male</td>\n",
       "      <td>0</td>\n",
       "      <td>No</td>\n",
       "      <td>No</td>\n",
       "    </tr>\n",
       "    <tr>\n",
       "      <th>4</th>\n",
       "      <td>9237-HQITU</td>\n",
       "      <td>Female</td>\n",
       "      <td>0</td>\n",
       "      <td>No</td>\n",
       "      <td>No</td>\n",
       "    </tr>\n",
       "  </tbody>\n",
       "</table>\n",
       "</div>"
      ],
      "text/plain": [
       "   customerID  gender  SeniorCitizen Partner Dependents\n",
       "0  7590-VHVEG  Female              0     Yes         No\n",
       "1  5575-GNVDE    Male              0      No         No\n",
       "2  3668-QPYBK    Male              0      No         No\n",
       "3  7795-CFOCW    Male              0      No         No\n",
       "4  9237-HQITU  Female              0      No         No"
      ]
     },
     "metadata": {},
     "output_type": "display_data"
    },
    {
     "data": {
      "text/html": [
       "<div>\n",
       "<style scoped>\n",
       "    .dataframe tbody tr th:only-of-type {\n",
       "        vertical-align: middle;\n",
       "    }\n",
       "\n",
       "    .dataframe tbody tr th {\n",
       "        vertical-align: top;\n",
       "    }\n",
       "\n",
       "    .dataframe thead th {\n",
       "        text-align: right;\n",
       "    }\n",
       "</style>\n",
       "<table border=\"1\" class=\"dataframe\">\n",
       "  <thead>\n",
       "    <tr style=\"text-align: right;\">\n",
       "      <th></th>\n",
       "      <th>c1</th>\n",
       "      <th>c2</th>\n",
       "      <th>c3</th>\n",
       "      <th>c4</th>\n",
       "      <th>c5</th>\n",
       "      <th>c6</th>\n",
       "      <th>c7</th>\n",
       "      <th>c8</th>\n",
       "    </tr>\n",
       "  </thead>\n",
       "  <tbody>\n",
       "    <tr>\n",
       "      <th>0</th>\n",
       "      <td>customerID</td>\n",
       "      <td>InternetService</td>\n",
       "      <td>OnlineSecurity</td>\n",
       "      <td>OnlineBackup</td>\n",
       "      <td>DeviceProtection</td>\n",
       "      <td>TechSupport</td>\n",
       "      <td>StreamingTV</td>\n",
       "      <td>StreamingMovies</td>\n",
       "    </tr>\n",
       "    <tr>\n",
       "      <th>1</th>\n",
       "      <td>7590-VHVEG</td>\n",
       "      <td>DSL</td>\n",
       "      <td>No</td>\n",
       "      <td>Yes</td>\n",
       "      <td>No</td>\n",
       "      <td>No</td>\n",
       "      <td>No</td>\n",
       "      <td>No</td>\n",
       "    </tr>\n",
       "    <tr>\n",
       "      <th>2</th>\n",
       "      <td>5575-GNVDE</td>\n",
       "      <td>DSL</td>\n",
       "      <td>Yes</td>\n",
       "      <td>No</td>\n",
       "      <td>Yes</td>\n",
       "      <td>No</td>\n",
       "      <td>No</td>\n",
       "      <td>No</td>\n",
       "    </tr>\n",
       "    <tr>\n",
       "      <th>3</th>\n",
       "      <td>3668-QPYBK</td>\n",
       "      <td>DSL</td>\n",
       "      <td>Yes</td>\n",
       "      <td>Yes</td>\n",
       "      <td>No</td>\n",
       "      <td>No</td>\n",
       "      <td>No</td>\n",
       "      <td>No</td>\n",
       "    </tr>\n",
       "    <tr>\n",
       "      <th>4</th>\n",
       "      <td>7795-CFOCW</td>\n",
       "      <td>DSL</td>\n",
       "      <td>Yes</td>\n",
       "      <td>No</td>\n",
       "      <td>Yes</td>\n",
       "      <td>Yes</td>\n",
       "      <td>No</td>\n",
       "      <td>No</td>\n",
       "    </tr>\n",
       "  </tbody>\n",
       "</table>\n",
       "</div>"
      ],
      "text/plain": [
       "           c1               c2              c3            c4  \\\n",
       "0  customerID  InternetService  OnlineSecurity  OnlineBackup   \n",
       "1  7590-VHVEG              DSL              No           Yes   \n",
       "2  5575-GNVDE              DSL             Yes            No   \n",
       "3  3668-QPYBK              DSL             Yes           Yes   \n",
       "4  7795-CFOCW              DSL             Yes            No   \n",
       "\n",
       "                 c5           c6           c7               c8  \n",
       "0  DeviceProtection  TechSupport  StreamingTV  StreamingMovies  \n",
       "1                No           No           No               No  \n",
       "2               Yes           No           No               No  \n",
       "3                No           No           No               No  \n",
       "4               Yes          Yes           No               No  "
      ]
     },
     "metadata": {},
     "output_type": "display_data"
    },
    {
     "data": {
      "text/html": [
       "<div>\n",
       "<style scoped>\n",
       "    .dataframe tbody tr th:only-of-type {\n",
       "        vertical-align: middle;\n",
       "    }\n",
       "\n",
       "    .dataframe tbody tr th {\n",
       "        vertical-align: top;\n",
       "    }\n",
       "\n",
       "    .dataframe thead th {\n",
       "        text-align: right;\n",
       "    }\n",
       "</style>\n",
       "<table border=\"1\" class=\"dataframe\">\n",
       "  <thead>\n",
       "    <tr style=\"text-align: right;\">\n",
       "      <th></th>\n",
       "      <th>c1</th>\n",
       "      <th>c2</th>\n",
       "    </tr>\n",
       "  </thead>\n",
       "  <tbody>\n",
       "    <tr>\n",
       "      <th>0</th>\n",
       "      <td>customerID</td>\n",
       "      <td>MultipleLines</td>\n",
       "    </tr>\n",
       "    <tr>\n",
       "      <th>1</th>\n",
       "      <td>5575-GNVDE</td>\n",
       "      <td>No</td>\n",
       "    </tr>\n",
       "    <tr>\n",
       "      <th>2</th>\n",
       "      <td>3668-QPYBK</td>\n",
       "      <td>No</td>\n",
       "    </tr>\n",
       "    <tr>\n",
       "      <th>3</th>\n",
       "      <td>9237-HQITU</td>\n",
       "      <td>No</td>\n",
       "    </tr>\n",
       "    <tr>\n",
       "      <th>4</th>\n",
       "      <td>9305-CDSKC</td>\n",
       "      <td>Yes</td>\n",
       "    </tr>\n",
       "  </tbody>\n",
       "</table>\n",
       "</div>"
      ],
      "text/plain": [
       "           c1             c2\n",
       "0  customerID  MultipleLines\n",
       "1  5575-GNVDE             No\n",
       "2  3668-QPYBK             No\n",
       "3  9237-HQITU             No\n",
       "4  9305-CDSKC            Yes"
      ]
     },
     "metadata": {},
     "output_type": "display_data"
    }
   ],
   "source": [
    "# Функция загрузки данных из таблицы\n",
    "def load_data(schema, table_name):\n",
    "    query = f\"SELECT * FROM {schema}.{table_name}\"\n",
    "    return pd.read_sql_query(query, con=engine)\n",
    "\n",
    "# Загрузим данные из каждой таблицы в схеме «telecom».\n",
    "contract_data = load_data('telecom', 'contract')\n",
    "personal_data = load_data('telecom', 'personal')\n",
    "internet_data = load_data('telecom', 'internet')\n",
    "phone_data = load_data('telecom', 'phone')\n",
    "\n",
    "# Отобразим первые несколько строк одной из таблиц в качестве примера.\n",
    "display(contract_data.head())\n",
    "display(personal_data.head())\n",
    "display(internet_data.head())\n",
    "display(phone_data.head())"
   ]
  },
  {
   "cell_type": "markdown",
   "metadata": {},
   "source": [
    "## 2. Исследовательский Анализ и Предобработка"
   ]
  },
  {
   "cell_type": "code",
   "execution_count": 4,
   "metadata": {},
   "outputs": [
    {
     "name": "stdout",
     "output_type": "stream",
     "text": [
      "Пропущенные значения в каждом наборе данных:\n"
     ]
    },
    {
     "data": {
      "text/html": [
       "<div>\n",
       "<style scoped>\n",
       "    .dataframe tbody tr th:only-of-type {\n",
       "        vertical-align: middle;\n",
       "    }\n",
       "\n",
       "    .dataframe tbody tr th {\n",
       "        vertical-align: top;\n",
       "    }\n",
       "\n",
       "    .dataframe thead th {\n",
       "        text-align: right;\n",
       "    }\n",
       "</style>\n",
       "<table border=\"1\" class=\"dataframe\">\n",
       "  <thead>\n",
       "    <tr style=\"text-align: right;\">\n",
       "      <th></th>\n",
       "      <th>personal_data</th>\n",
       "      <th>contract_data</th>\n",
       "      <th>internet_data</th>\n",
       "      <th>phone_data</th>\n",
       "    </tr>\n",
       "  </thead>\n",
       "  <tbody>\n",
       "    <tr>\n",
       "      <th>BeginDate</th>\n",
       "      <td>NaN</td>\n",
       "      <td>0.0</td>\n",
       "      <td>NaN</td>\n",
       "      <td>NaN</td>\n",
       "    </tr>\n",
       "    <tr>\n",
       "      <th>Dependents</th>\n",
       "      <td>0.0</td>\n",
       "      <td>NaN</td>\n",
       "      <td>NaN</td>\n",
       "      <td>NaN</td>\n",
       "    </tr>\n",
       "    <tr>\n",
       "      <th>EndDate</th>\n",
       "      <td>NaN</td>\n",
       "      <td>5174.0</td>\n",
       "      <td>NaN</td>\n",
       "      <td>NaN</td>\n",
       "    </tr>\n",
       "    <tr>\n",
       "      <th>MonthlyCharges</th>\n",
       "      <td>NaN</td>\n",
       "      <td>0.0</td>\n",
       "      <td>NaN</td>\n",
       "      <td>NaN</td>\n",
       "    </tr>\n",
       "    <tr>\n",
       "      <th>PaperlessBilling</th>\n",
       "      <td>NaN</td>\n",
       "      <td>0.0</td>\n",
       "      <td>NaN</td>\n",
       "      <td>NaN</td>\n",
       "    </tr>\n",
       "    <tr>\n",
       "      <th>Partner</th>\n",
       "      <td>0.0</td>\n",
       "      <td>NaN</td>\n",
       "      <td>NaN</td>\n",
       "      <td>NaN</td>\n",
       "    </tr>\n",
       "    <tr>\n",
       "      <th>PaymentMethod</th>\n",
       "      <td>NaN</td>\n",
       "      <td>0.0</td>\n",
       "      <td>NaN</td>\n",
       "      <td>NaN</td>\n",
       "    </tr>\n",
       "    <tr>\n",
       "      <th>SeniorCitizen</th>\n",
       "      <td>0.0</td>\n",
       "      <td>NaN</td>\n",
       "      <td>NaN</td>\n",
       "      <td>NaN</td>\n",
       "    </tr>\n",
       "    <tr>\n",
       "      <th>TotalCharges</th>\n",
       "      <td>NaN</td>\n",
       "      <td>11.0</td>\n",
       "      <td>NaN</td>\n",
       "      <td>NaN</td>\n",
       "    </tr>\n",
       "    <tr>\n",
       "      <th>Type</th>\n",
       "      <td>NaN</td>\n",
       "      <td>0.0</td>\n",
       "      <td>NaN</td>\n",
       "      <td>NaN</td>\n",
       "    </tr>\n",
       "    <tr>\n",
       "      <th>c1</th>\n",
       "      <td>NaN</td>\n",
       "      <td>NaN</td>\n",
       "      <td>0.0</td>\n",
       "      <td>0.0</td>\n",
       "    </tr>\n",
       "    <tr>\n",
       "      <th>c2</th>\n",
       "      <td>NaN</td>\n",
       "      <td>NaN</td>\n",
       "      <td>0.0</td>\n",
       "      <td>0.0</td>\n",
       "    </tr>\n",
       "    <tr>\n",
       "      <th>c3</th>\n",
       "      <td>NaN</td>\n",
       "      <td>NaN</td>\n",
       "      <td>0.0</td>\n",
       "      <td>NaN</td>\n",
       "    </tr>\n",
       "    <tr>\n",
       "      <th>c4</th>\n",
       "      <td>NaN</td>\n",
       "      <td>NaN</td>\n",
       "      <td>0.0</td>\n",
       "      <td>NaN</td>\n",
       "    </tr>\n",
       "    <tr>\n",
       "      <th>c5</th>\n",
       "      <td>NaN</td>\n",
       "      <td>NaN</td>\n",
       "      <td>0.0</td>\n",
       "      <td>NaN</td>\n",
       "    </tr>\n",
       "    <tr>\n",
       "      <th>c6</th>\n",
       "      <td>NaN</td>\n",
       "      <td>NaN</td>\n",
       "      <td>0.0</td>\n",
       "      <td>NaN</td>\n",
       "    </tr>\n",
       "    <tr>\n",
       "      <th>c7</th>\n",
       "      <td>NaN</td>\n",
       "      <td>NaN</td>\n",
       "      <td>0.0</td>\n",
       "      <td>NaN</td>\n",
       "    </tr>\n",
       "    <tr>\n",
       "      <th>c8</th>\n",
       "      <td>NaN</td>\n",
       "      <td>NaN</td>\n",
       "      <td>0.0</td>\n",
       "      <td>NaN</td>\n",
       "    </tr>\n",
       "    <tr>\n",
       "      <th>customerID</th>\n",
       "      <td>0.0</td>\n",
       "      <td>0.0</td>\n",
       "      <td>NaN</td>\n",
       "      <td>NaN</td>\n",
       "    </tr>\n",
       "    <tr>\n",
       "      <th>gender</th>\n",
       "      <td>0.0</td>\n",
       "      <td>NaN</td>\n",
       "      <td>NaN</td>\n",
       "      <td>NaN</td>\n",
       "    </tr>\n",
       "  </tbody>\n",
       "</table>\n",
       "</div>"
      ],
      "text/plain": [
       "                  personal_data  contract_data  internet_data  phone_data\n",
       "BeginDate                   NaN            0.0            NaN         NaN\n",
       "Dependents                  0.0            NaN            NaN         NaN\n",
       "EndDate                     NaN         5174.0            NaN         NaN\n",
       "MonthlyCharges              NaN            0.0            NaN         NaN\n",
       "PaperlessBilling            NaN            0.0            NaN         NaN\n",
       "Partner                     0.0            NaN            NaN         NaN\n",
       "PaymentMethod               NaN            0.0            NaN         NaN\n",
       "SeniorCitizen               0.0            NaN            NaN         NaN\n",
       "TotalCharges                NaN           11.0            NaN         NaN\n",
       "Type                        NaN            0.0            NaN         NaN\n",
       "c1                          NaN            NaN            0.0         0.0\n",
       "c2                          NaN            NaN            0.0         0.0\n",
       "c3                          NaN            NaN            0.0         NaN\n",
       "c4                          NaN            NaN            0.0         NaN\n",
       "c5                          NaN            NaN            0.0         NaN\n",
       "c6                          NaN            NaN            0.0         NaN\n",
       "c7                          NaN            NaN            0.0         NaN\n",
       "c8                          NaN            NaN            0.0         NaN\n",
       "customerID                  0.0            0.0            NaN         NaN\n",
       "gender                      0.0            NaN            NaN         NaN"
      ]
     },
     "metadata": {},
     "output_type": "display_data"
    },
    {
     "name": "stdout",
     "output_type": "stream",
     "text": [
      "\n",
      "Типы данных в каждом наборе данных:\n"
     ]
    },
    {
     "data": {
      "text/html": [
       "<div>\n",
       "<style scoped>\n",
       "    .dataframe tbody tr th:only-of-type {\n",
       "        vertical-align: middle;\n",
       "    }\n",
       "\n",
       "    .dataframe tbody tr th {\n",
       "        vertical-align: top;\n",
       "    }\n",
       "\n",
       "    .dataframe thead th {\n",
       "        text-align: right;\n",
       "    }\n",
       "</style>\n",
       "<table border=\"1\" class=\"dataframe\">\n",
       "  <thead>\n",
       "    <tr style=\"text-align: right;\">\n",
       "      <th></th>\n",
       "      <th>personal_data</th>\n",
       "      <th>contract_data</th>\n",
       "      <th>internet_data</th>\n",
       "      <th>phone_data</th>\n",
       "    </tr>\n",
       "  </thead>\n",
       "  <tbody>\n",
       "    <tr>\n",
       "      <th>BeginDate</th>\n",
       "      <td>NaN</td>\n",
       "      <td>object</td>\n",
       "      <td>NaN</td>\n",
       "      <td>NaN</td>\n",
       "    </tr>\n",
       "    <tr>\n",
       "      <th>Dependents</th>\n",
       "      <td>object</td>\n",
       "      <td>NaN</td>\n",
       "      <td>NaN</td>\n",
       "      <td>NaN</td>\n",
       "    </tr>\n",
       "    <tr>\n",
       "      <th>EndDate</th>\n",
       "      <td>NaN</td>\n",
       "      <td>object</td>\n",
       "      <td>NaN</td>\n",
       "      <td>NaN</td>\n",
       "    </tr>\n",
       "    <tr>\n",
       "      <th>MonthlyCharges</th>\n",
       "      <td>NaN</td>\n",
       "      <td>float64</td>\n",
       "      <td>NaN</td>\n",
       "      <td>NaN</td>\n",
       "    </tr>\n",
       "    <tr>\n",
       "      <th>PaperlessBilling</th>\n",
       "      <td>NaN</td>\n",
       "      <td>object</td>\n",
       "      <td>NaN</td>\n",
       "      <td>NaN</td>\n",
       "    </tr>\n",
       "    <tr>\n",
       "      <th>Partner</th>\n",
       "      <td>object</td>\n",
       "      <td>NaN</td>\n",
       "      <td>NaN</td>\n",
       "      <td>NaN</td>\n",
       "    </tr>\n",
       "    <tr>\n",
       "      <th>PaymentMethod</th>\n",
       "      <td>NaN</td>\n",
       "      <td>object</td>\n",
       "      <td>NaN</td>\n",
       "      <td>NaN</td>\n",
       "    </tr>\n",
       "    <tr>\n",
       "      <th>SeniorCitizen</th>\n",
       "      <td>int64</td>\n",
       "      <td>NaN</td>\n",
       "      <td>NaN</td>\n",
       "      <td>NaN</td>\n",
       "    </tr>\n",
       "    <tr>\n",
       "      <th>TotalCharges</th>\n",
       "      <td>NaN</td>\n",
       "      <td>float64</td>\n",
       "      <td>NaN</td>\n",
       "      <td>NaN</td>\n",
       "    </tr>\n",
       "    <tr>\n",
       "      <th>Type</th>\n",
       "      <td>NaN</td>\n",
       "      <td>object</td>\n",
       "      <td>NaN</td>\n",
       "      <td>NaN</td>\n",
       "    </tr>\n",
       "    <tr>\n",
       "      <th>c1</th>\n",
       "      <td>NaN</td>\n",
       "      <td>NaN</td>\n",
       "      <td>object</td>\n",
       "      <td>object</td>\n",
       "    </tr>\n",
       "    <tr>\n",
       "      <th>c2</th>\n",
       "      <td>NaN</td>\n",
       "      <td>NaN</td>\n",
       "      <td>object</td>\n",
       "      <td>object</td>\n",
       "    </tr>\n",
       "    <tr>\n",
       "      <th>c3</th>\n",
       "      <td>NaN</td>\n",
       "      <td>NaN</td>\n",
       "      <td>object</td>\n",
       "      <td>NaN</td>\n",
       "    </tr>\n",
       "    <tr>\n",
       "      <th>c4</th>\n",
       "      <td>NaN</td>\n",
       "      <td>NaN</td>\n",
       "      <td>object</td>\n",
       "      <td>NaN</td>\n",
       "    </tr>\n",
       "    <tr>\n",
       "      <th>c5</th>\n",
       "      <td>NaN</td>\n",
       "      <td>NaN</td>\n",
       "      <td>object</td>\n",
       "      <td>NaN</td>\n",
       "    </tr>\n",
       "    <tr>\n",
       "      <th>c6</th>\n",
       "      <td>NaN</td>\n",
       "      <td>NaN</td>\n",
       "      <td>object</td>\n",
       "      <td>NaN</td>\n",
       "    </tr>\n",
       "    <tr>\n",
       "      <th>c7</th>\n",
       "      <td>NaN</td>\n",
       "      <td>NaN</td>\n",
       "      <td>object</td>\n",
       "      <td>NaN</td>\n",
       "    </tr>\n",
       "    <tr>\n",
       "      <th>c8</th>\n",
       "      <td>NaN</td>\n",
       "      <td>NaN</td>\n",
       "      <td>object</td>\n",
       "      <td>NaN</td>\n",
       "    </tr>\n",
       "    <tr>\n",
       "      <th>customerID</th>\n",
       "      <td>object</td>\n",
       "      <td>object</td>\n",
       "      <td>NaN</td>\n",
       "      <td>NaN</td>\n",
       "    </tr>\n",
       "    <tr>\n",
       "      <th>gender</th>\n",
       "      <td>object</td>\n",
       "      <td>NaN</td>\n",
       "      <td>NaN</td>\n",
       "      <td>NaN</td>\n",
       "    </tr>\n",
       "  </tbody>\n",
       "</table>\n",
       "</div>"
      ],
      "text/plain": [
       "                 personal_data contract_data internet_data phone_data\n",
       "BeginDate                  NaN        object           NaN        NaN\n",
       "Dependents              object           NaN           NaN        NaN\n",
       "EndDate                    NaN        object           NaN        NaN\n",
       "MonthlyCharges             NaN       float64           NaN        NaN\n",
       "PaperlessBilling           NaN        object           NaN        NaN\n",
       "Partner                 object           NaN           NaN        NaN\n",
       "PaymentMethod              NaN        object           NaN        NaN\n",
       "SeniorCitizen            int64           NaN           NaN        NaN\n",
       "TotalCharges               NaN       float64           NaN        NaN\n",
       "Type                       NaN        object           NaN        NaN\n",
       "c1                         NaN           NaN        object     object\n",
       "c2                         NaN           NaN        object     object\n",
       "c3                         NaN           NaN        object        NaN\n",
       "c4                         NaN           NaN        object        NaN\n",
       "c5                         NaN           NaN        object        NaN\n",
       "c6                         NaN           NaN        object        NaN\n",
       "c7                         NaN           NaN        object        NaN\n",
       "c8                         NaN           NaN        object        NaN\n",
       "customerID              object        object           NaN        NaN\n",
       "gender                  object           NaN           NaN        NaN"
      ]
     },
     "metadata": {},
     "output_type": "display_data"
    }
   ],
   "source": [
    "# Проверка пропущенных значений и типов данных в каждой таблице\n",
    "missing_values = {\n",
    "    \"personal_data\": personal_data.isnull().sum(),\n",
    "    \"contract_data\": contract_data.isnull().sum(),\n",
    "    \"internet_data\": internet_data.isnull().sum(),\n",
    "    \"phone_data\": phone_data.isnull().sum()\n",
    "}\n",
    "\n",
    "data_types = {\n",
    "    \"personal_data\": personal_data.dtypes,\n",
    "    \"contract_data\": contract_data.dtypes,\n",
    "    \"internet_data\": internet_data.dtypes,\n",
    "    \"phone_data\": phone_data.dtypes\n",
    "}\n",
    "\n",
    "# Создание DataFrames для отсутствующих значений и типов данных\n",
    "missing_values_df = pd.DataFrame(missing_values)\n",
    "data_types_df = pd.DataFrame(data_types)\n",
    "\n",
    "# Отобразим DataFrames\n",
    "print(\"Пропущенные значения в каждом наборе данных:\")\n",
    "display(missing_values_df)\n",
    "print(\"\\nТипы данных в каждом наборе данных:\")\n",
    "display(data_types_df)"
   ]
  },
  {
   "cell_type": "markdown",
   "metadata": {},
   "source": [
    "**Отсутствующие значения**\n",
    "\n",
    "1. **Личные данные**: пропущенных значений нет.\n",
    "2. **Данные контракта**: отсутствуют значения в полях «**EndDate**» и «**TotalCharges**».  \n",
    "     - Отсутствующие значения в поле **EndDate**, скорее всего, указывают на клиентов, которые все еще активны (т. е. не ушли). Их следует обрабатывать соответствующим образом при создании целевой переменной.  \n",
    "     - Необходимо изучить и обработать недостающие значения в TotalCharges.\n",
    "\n",
    "\n",
    "3. **Данные Интернета**: пропущенных значений нет, но имена столбцов необходимо переименовать для ясности.\n",
    "4. **Данные телефона**: пропущенных значений нет, но названия столбцов необходимо переименовать для ясности.\n",
    "\n",
    "**Типы данных**\n",
    "\n",
    "- '**BeginDate**' и '**EndDate**' в данных контракта должны быть преобразованы в дату и время.\n",
    "- '**TotalCharges**' в данных контракта должен иметь числовой тип (float).\n",
    "- Столбец «**SeniorCitizen**» в личных данных, хотя и числовой, представляет собой двоичную категорию и может рассматриваться как категориальная переменная."
   ]
  },
  {
   "cell_type": "code",
   "execution_count": 5,
   "metadata": {},
   "outputs": [
    {
     "data": {
      "text/html": [
       "<div>\n",
       "<style scoped>\n",
       "    .dataframe tbody tr th:only-of-type {\n",
       "        vertical-align: middle;\n",
       "    }\n",
       "\n",
       "    .dataframe tbody tr th {\n",
       "        vertical-align: top;\n",
       "    }\n",
       "\n",
       "    .dataframe thead th {\n",
       "        text-align: right;\n",
       "    }\n",
       "</style>\n",
       "<table border=\"1\" class=\"dataframe\">\n",
       "  <thead>\n",
       "    <tr style=\"text-align: right;\">\n",
       "      <th></th>\n",
       "      <th>customerID</th>\n",
       "      <th>BeginDate</th>\n",
       "      <th>EndDate</th>\n",
       "      <th>Type</th>\n",
       "      <th>PaperlessBilling</th>\n",
       "      <th>PaymentMethod</th>\n",
       "      <th>MonthlyCharges</th>\n",
       "      <th>TotalCharges</th>\n",
       "      <th>Churn</th>\n",
       "    </tr>\n",
       "  </thead>\n",
       "  <tbody>\n",
       "    <tr>\n",
       "      <th>0</th>\n",
       "      <td>4472-LVYGI</td>\n",
       "      <td>2020-02-01</td>\n",
       "      <td>NaT</td>\n",
       "      <td>Two year</td>\n",
       "      <td>Yes</td>\n",
       "      <td>Bank transfer (automatic)</td>\n",
       "      <td>52.55</td>\n",
       "      <td>NaN</td>\n",
       "      <td>0</td>\n",
       "    </tr>\n",
       "    <tr>\n",
       "      <th>1</th>\n",
       "      <td>3115-CZMZD</td>\n",
       "      <td>2020-02-01</td>\n",
       "      <td>NaT</td>\n",
       "      <td>Two year</td>\n",
       "      <td>No</td>\n",
       "      <td>Mailed check</td>\n",
       "      <td>20.25</td>\n",
       "      <td>NaN</td>\n",
       "      <td>0</td>\n",
       "    </tr>\n",
       "    <tr>\n",
       "      <th>2</th>\n",
       "      <td>3668-QPYBK</td>\n",
       "      <td>2018-08-09</td>\n",
       "      <td>2019-12-01</td>\n",
       "      <td>Month-to-month</td>\n",
       "      <td>Yes</td>\n",
       "      <td>Mailed check</td>\n",
       "      <td>53.85</td>\n",
       "      <td>108.15</td>\n",
       "      <td>1</td>\n",
       "    </tr>\n",
       "    <tr>\n",
       "      <th>3</th>\n",
       "      <td>5709-LVOEQ</td>\n",
       "      <td>2020-02-01</td>\n",
       "      <td>NaT</td>\n",
       "      <td>Two year</td>\n",
       "      <td>No</td>\n",
       "      <td>Mailed check</td>\n",
       "      <td>80.85</td>\n",
       "      <td>NaN</td>\n",
       "      <td>0</td>\n",
       "    </tr>\n",
       "    <tr>\n",
       "      <th>4</th>\n",
       "      <td>9237-HQITU</td>\n",
       "      <td>2019-01-26</td>\n",
       "      <td>2019-11-01</td>\n",
       "      <td>Month-to-month</td>\n",
       "      <td>Yes</td>\n",
       "      <td>Electronic check</td>\n",
       "      <td>70.70</td>\n",
       "      <td>151.65</td>\n",
       "      <td>1</td>\n",
       "    </tr>\n",
       "  </tbody>\n",
       "</table>\n",
       "</div>"
      ],
      "text/plain": [
       "   customerID  BeginDate    EndDate            Type PaperlessBilling  \\\n",
       "0  4472-LVYGI 2020-02-01        NaT        Two year              Yes   \n",
       "1  3115-CZMZD 2020-02-01        NaT        Two year               No   \n",
       "2  3668-QPYBK 2018-08-09 2019-12-01  Month-to-month              Yes   \n",
       "3  5709-LVOEQ 2020-02-01        NaT        Two year               No   \n",
       "4  9237-HQITU 2019-01-26 2019-11-01  Month-to-month              Yes   \n",
       "\n",
       "               PaymentMethod  MonthlyCharges  TotalCharges  Churn  \n",
       "0  Bank transfer (automatic)           52.55           NaN      0  \n",
       "1               Mailed check           20.25           NaN      0  \n",
       "2               Mailed check           53.85        108.15      1  \n",
       "3               Mailed check           80.85           NaN      0  \n",
       "4           Electronic check           70.70        151.65      1  "
      ]
     },
     "metadata": {},
     "output_type": "display_data"
    },
    {
     "data": {
      "text/html": [
       "<div>\n",
       "<style scoped>\n",
       "    .dataframe tbody tr th:only-of-type {\n",
       "        vertical-align: middle;\n",
       "    }\n",
       "\n",
       "    .dataframe tbody tr th {\n",
       "        vertical-align: top;\n",
       "    }\n",
       "\n",
       "    .dataframe thead th {\n",
       "        text-align: right;\n",
       "    }\n",
       "</style>\n",
       "<table border=\"1\" class=\"dataframe\">\n",
       "  <thead>\n",
       "    <tr style=\"text-align: right;\">\n",
       "      <th></th>\n",
       "      <th>customerID</th>\n",
       "      <th>InternetService</th>\n",
       "      <th>OnlineSecurity</th>\n",
       "      <th>OnlineBackup</th>\n",
       "      <th>DeviceProtection</th>\n",
       "      <th>TechSupport</th>\n",
       "      <th>StreamingTV</th>\n",
       "      <th>StreamingMovies</th>\n",
       "    </tr>\n",
       "  </thead>\n",
       "  <tbody>\n",
       "    <tr>\n",
       "      <th>0</th>\n",
       "      <td>customerID</td>\n",
       "      <td>InternetService</td>\n",
       "      <td>OnlineSecurity</td>\n",
       "      <td>OnlineBackup</td>\n",
       "      <td>DeviceProtection</td>\n",
       "      <td>TechSupport</td>\n",
       "      <td>StreamingTV</td>\n",
       "      <td>StreamingMovies</td>\n",
       "    </tr>\n",
       "    <tr>\n",
       "      <th>1</th>\n",
       "      <td>7590-VHVEG</td>\n",
       "      <td>DSL</td>\n",
       "      <td>No</td>\n",
       "      <td>Yes</td>\n",
       "      <td>No</td>\n",
       "      <td>No</td>\n",
       "      <td>No</td>\n",
       "      <td>No</td>\n",
       "    </tr>\n",
       "    <tr>\n",
       "      <th>2</th>\n",
       "      <td>5575-GNVDE</td>\n",
       "      <td>DSL</td>\n",
       "      <td>Yes</td>\n",
       "      <td>No</td>\n",
       "      <td>Yes</td>\n",
       "      <td>No</td>\n",
       "      <td>No</td>\n",
       "      <td>No</td>\n",
       "    </tr>\n",
       "    <tr>\n",
       "      <th>3</th>\n",
       "      <td>3668-QPYBK</td>\n",
       "      <td>DSL</td>\n",
       "      <td>Yes</td>\n",
       "      <td>Yes</td>\n",
       "      <td>No</td>\n",
       "      <td>No</td>\n",
       "      <td>No</td>\n",
       "      <td>No</td>\n",
       "    </tr>\n",
       "    <tr>\n",
       "      <th>4</th>\n",
       "      <td>7795-CFOCW</td>\n",
       "      <td>DSL</td>\n",
       "      <td>Yes</td>\n",
       "      <td>No</td>\n",
       "      <td>Yes</td>\n",
       "      <td>Yes</td>\n",
       "      <td>No</td>\n",
       "      <td>No</td>\n",
       "    </tr>\n",
       "  </tbody>\n",
       "</table>\n",
       "</div>"
      ],
      "text/plain": [
       "   customerID  InternetService  OnlineSecurity  OnlineBackup  \\\n",
       "0  customerID  InternetService  OnlineSecurity  OnlineBackup   \n",
       "1  7590-VHVEG              DSL              No           Yes   \n",
       "2  5575-GNVDE              DSL             Yes            No   \n",
       "3  3668-QPYBK              DSL             Yes           Yes   \n",
       "4  7795-CFOCW              DSL             Yes            No   \n",
       "\n",
       "   DeviceProtection  TechSupport  StreamingTV  StreamingMovies  \n",
       "0  DeviceProtection  TechSupport  StreamingTV  StreamingMovies  \n",
       "1                No           No           No               No  \n",
       "2               Yes           No           No               No  \n",
       "3                No           No           No               No  \n",
       "4               Yes          Yes           No               No  "
      ]
     },
     "metadata": {},
     "output_type": "display_data"
    },
    {
     "data": {
      "text/html": [
       "<div>\n",
       "<style scoped>\n",
       "    .dataframe tbody tr th:only-of-type {\n",
       "        vertical-align: middle;\n",
       "    }\n",
       "\n",
       "    .dataframe tbody tr th {\n",
       "        vertical-align: top;\n",
       "    }\n",
       "\n",
       "    .dataframe thead th {\n",
       "        text-align: right;\n",
       "    }\n",
       "</style>\n",
       "<table border=\"1\" class=\"dataframe\">\n",
       "  <thead>\n",
       "    <tr style=\"text-align: right;\">\n",
       "      <th></th>\n",
       "      <th>customerID</th>\n",
       "      <th>MultipleLines</th>\n",
       "    </tr>\n",
       "  </thead>\n",
       "  <tbody>\n",
       "    <tr>\n",
       "      <th>0</th>\n",
       "      <td>customerID</td>\n",
       "      <td>MultipleLines</td>\n",
       "    </tr>\n",
       "    <tr>\n",
       "      <th>1</th>\n",
       "      <td>5575-GNVDE</td>\n",
       "      <td>No</td>\n",
       "    </tr>\n",
       "    <tr>\n",
       "      <th>2</th>\n",
       "      <td>3668-QPYBK</td>\n",
       "      <td>No</td>\n",
       "    </tr>\n",
       "    <tr>\n",
       "      <th>3</th>\n",
       "      <td>9237-HQITU</td>\n",
       "      <td>No</td>\n",
       "    </tr>\n",
       "    <tr>\n",
       "      <th>4</th>\n",
       "      <td>9305-CDSKC</td>\n",
       "      <td>Yes</td>\n",
       "    </tr>\n",
       "  </tbody>\n",
       "</table>\n",
       "</div>"
      ],
      "text/plain": [
       "   customerID  MultipleLines\n",
       "0  customerID  MultipleLines\n",
       "1  5575-GNVDE             No\n",
       "2  3668-QPYBK             No\n",
       "3  9237-HQITU             No\n",
       "4  9305-CDSKC            Yes"
      ]
     },
     "metadata": {},
     "output_type": "display_data"
    }
   ],
   "source": [
    "# Обработка пропущенных значений в TotalCharges\n",
    "# Преобразование TotalCharges в числовое значение, установка error='coerce' для преобразования проблемных значений в NaN\n",
    "contract_data['TotalCharges'] = pd.to_numeric(contract_data['TotalCharges'], errors='coerce')\n",
    "\n",
    "# Заполнение пропущенных значений в TotalCharges значением MonthlyCharges для клиентов с значением BeginDate, равным\n",
    "# дате извлечения данных (предполагается, что это новые клиенты)\n",
    "contract_data.loc[(contract_data['TotalCharges'].isnull()) & (contract_data['BeginDate'] == '2020-02-01'), \n",
    "                  'TotalCharges'] = contract_data['MonthlyCharges']\n",
    "\n",
    "# Преобразование 'BeginDate' и 'EndDate' в datetime\n",
    "contract_data['BeginDate'] = pd.to_datetime(contract_data['BeginDate'])\n",
    "\n",
    "# Для «EndDate» сначала заменим индикаторы неушедших клиентов на согласованный формат.\n",
    "contract_data['EndDate'] = contract_data['EndDate'].replace({'No': None})\n",
    "contract_data['EndDate'] = pd.to_datetime(contract_data['EndDate'])\n",
    "\n",
    "# Создайте двоичную целевую переменную для оттока\n",
    "contract_data['Churn'] = contract_data['EndDate'].notnull().astype(int)\n",
    "\n",
    "# Переименование столбцов в данных интернета и телефона для ясности\n",
    "internet_data.columns = ['customerID', 'InternetService', 'OnlineSecurity', 'OnlineBackup', \n",
    "                         'DeviceProtection', 'TechSupport', 'StreamingTV', 'StreamingMovies']\n",
    "phone_data.columns = ['customerID', 'MultipleLines']\n",
    "\n",
    "# Проверка преобразований\n",
    "display(contract_data.head())\n",
    "display(internet_data.head())\n",
    "display(phone_data.head())"
   ]
  },
  {
   "cell_type": "markdown",
   "metadata": {},
   "source": [
    "***Преобразования и обработка пропущенных значений успешно применены:***\n",
    "\n",
    "1. **Данные Контракта**:\n",
    "     - Преобразованы BeginDate и EndDate в datetime.\n",
    "     - Заполнены пропущенные значения TotalCharges для новых клиентов (чья BeginDate равна дате извлечения данных) их MonthlyCharges.\n",
    "     - Создана двоичная целевая переменная Churn (1 — отток, 0 — не отток).\n",
    "\n",
    "\n",
    "2. **Данные Интернета и Телефона**:\n",
    "     - Переименованы столбцы для ясности."
   ]
  },
  {
   "cell_type": "code",
   "execution_count": 6,
   "metadata": {},
   "outputs": [
    {
     "data": {
      "text/html": [
       "<div>\n",
       "<style scoped>\n",
       "    .dataframe tbody tr th:only-of-type {\n",
       "        vertical-align: middle;\n",
       "    }\n",
       "\n",
       "    .dataframe tbody tr th {\n",
       "        vertical-align: top;\n",
       "    }\n",
       "\n",
       "    .dataframe thead th {\n",
       "        text-align: right;\n",
       "    }\n",
       "</style>\n",
       "<table border=\"1\" class=\"dataframe\">\n",
       "  <thead>\n",
       "    <tr style=\"text-align: right;\">\n",
       "      <th></th>\n",
       "      <th>customerID</th>\n",
       "      <th>gender</th>\n",
       "      <th>SeniorCitizen</th>\n",
       "      <th>Partner</th>\n",
       "      <th>Dependents</th>\n",
       "      <th>BeginDate</th>\n",
       "      <th>EndDate</th>\n",
       "      <th>Type</th>\n",
       "      <th>PaperlessBilling</th>\n",
       "      <th>PaymentMethod</th>\n",
       "      <th>...</th>\n",
       "      <th>TotalCharges</th>\n",
       "      <th>Churn</th>\n",
       "      <th>InternetService</th>\n",
       "      <th>OnlineSecurity</th>\n",
       "      <th>OnlineBackup</th>\n",
       "      <th>DeviceProtection</th>\n",
       "      <th>TechSupport</th>\n",
       "      <th>StreamingTV</th>\n",
       "      <th>StreamingMovies</th>\n",
       "      <th>MultipleLines</th>\n",
       "    </tr>\n",
       "  </thead>\n",
       "  <tbody>\n",
       "    <tr>\n",
       "      <th>0</th>\n",
       "      <td>7590-VHVEG</td>\n",
       "      <td>Female</td>\n",
       "      <td>0</td>\n",
       "      <td>Yes</td>\n",
       "      <td>No</td>\n",
       "      <td>2019-04-29</td>\n",
       "      <td>NaT</td>\n",
       "      <td>Month-to-month</td>\n",
       "      <td>Yes</td>\n",
       "      <td>Electronic check</td>\n",
       "      <td>...</td>\n",
       "      <td>29.85</td>\n",
       "      <td>0</td>\n",
       "      <td>DSL</td>\n",
       "      <td>No</td>\n",
       "      <td>Yes</td>\n",
       "      <td>No</td>\n",
       "      <td>No</td>\n",
       "      <td>No</td>\n",
       "      <td>No</td>\n",
       "      <td>NaN</td>\n",
       "    </tr>\n",
       "    <tr>\n",
       "      <th>1</th>\n",
       "      <td>5575-GNVDE</td>\n",
       "      <td>Male</td>\n",
       "      <td>0</td>\n",
       "      <td>No</td>\n",
       "      <td>No</td>\n",
       "      <td>2019-03-26</td>\n",
       "      <td>NaT</td>\n",
       "      <td>One year</td>\n",
       "      <td>No</td>\n",
       "      <td>Mailed check</td>\n",
       "      <td>...</td>\n",
       "      <td>1889.50</td>\n",
       "      <td>0</td>\n",
       "      <td>DSL</td>\n",
       "      <td>Yes</td>\n",
       "      <td>No</td>\n",
       "      <td>Yes</td>\n",
       "      <td>No</td>\n",
       "      <td>No</td>\n",
       "      <td>No</td>\n",
       "      <td>No</td>\n",
       "    </tr>\n",
       "    <tr>\n",
       "      <th>2</th>\n",
       "      <td>3668-QPYBK</td>\n",
       "      <td>Male</td>\n",
       "      <td>0</td>\n",
       "      <td>No</td>\n",
       "      <td>No</td>\n",
       "      <td>2018-08-09</td>\n",
       "      <td>2019-12-01</td>\n",
       "      <td>Month-to-month</td>\n",
       "      <td>Yes</td>\n",
       "      <td>Mailed check</td>\n",
       "      <td>...</td>\n",
       "      <td>108.15</td>\n",
       "      <td>1</td>\n",
       "      <td>DSL</td>\n",
       "      <td>Yes</td>\n",
       "      <td>Yes</td>\n",
       "      <td>No</td>\n",
       "      <td>No</td>\n",
       "      <td>No</td>\n",
       "      <td>No</td>\n",
       "      <td>No</td>\n",
       "    </tr>\n",
       "    <tr>\n",
       "      <th>3</th>\n",
       "      <td>7795-CFOCW</td>\n",
       "      <td>Male</td>\n",
       "      <td>0</td>\n",
       "      <td>No</td>\n",
       "      <td>No</td>\n",
       "      <td>2018-12-22</td>\n",
       "      <td>NaT</td>\n",
       "      <td>One year</td>\n",
       "      <td>No</td>\n",
       "      <td>Bank transfer (automatic)</td>\n",
       "      <td>...</td>\n",
       "      <td>1840.75</td>\n",
       "      <td>0</td>\n",
       "      <td>DSL</td>\n",
       "      <td>Yes</td>\n",
       "      <td>No</td>\n",
       "      <td>Yes</td>\n",
       "      <td>Yes</td>\n",
       "      <td>No</td>\n",
       "      <td>No</td>\n",
       "      <td>NaN</td>\n",
       "    </tr>\n",
       "    <tr>\n",
       "      <th>4</th>\n",
       "      <td>9237-HQITU</td>\n",
       "      <td>Female</td>\n",
       "      <td>0</td>\n",
       "      <td>No</td>\n",
       "      <td>No</td>\n",
       "      <td>2019-01-26</td>\n",
       "      <td>2019-11-01</td>\n",
       "      <td>Month-to-month</td>\n",
       "      <td>Yes</td>\n",
       "      <td>Electronic check</td>\n",
       "      <td>...</td>\n",
       "      <td>151.65</td>\n",
       "      <td>1</td>\n",
       "      <td>Fiber optic</td>\n",
       "      <td>No</td>\n",
       "      <td>No</td>\n",
       "      <td>No</td>\n",
       "      <td>No</td>\n",
       "      <td>No</td>\n",
       "      <td>No</td>\n",
       "      <td>No</td>\n",
       "    </tr>\n",
       "  </tbody>\n",
       "</table>\n",
       "<p>5 rows × 21 columns</p>\n",
       "</div>"
      ],
      "text/plain": [
       "   customerID  gender  SeniorCitizen Partner Dependents  BeginDate    EndDate  \\\n",
       "0  7590-VHVEG  Female              0     Yes         No 2019-04-29        NaT   \n",
       "1  5575-GNVDE    Male              0      No         No 2019-03-26        NaT   \n",
       "2  3668-QPYBK    Male              0      No         No 2018-08-09 2019-12-01   \n",
       "3  7795-CFOCW    Male              0      No         No 2018-12-22        NaT   \n",
       "4  9237-HQITU  Female              0      No         No 2019-01-26 2019-11-01   \n",
       "\n",
       "             Type PaperlessBilling              PaymentMethod  ...  \\\n",
       "0  Month-to-month              Yes           Electronic check  ...   \n",
       "1        One year               No               Mailed check  ...   \n",
       "2  Month-to-month              Yes               Mailed check  ...   \n",
       "3        One year               No  Bank transfer (automatic)  ...   \n",
       "4  Month-to-month              Yes           Electronic check  ...   \n",
       "\n",
       "   TotalCharges  Churn  InternetService OnlineSecurity OnlineBackup  \\\n",
       "0         29.85      0              DSL             No          Yes   \n",
       "1       1889.50      0              DSL            Yes           No   \n",
       "2        108.15      1              DSL            Yes          Yes   \n",
       "3       1840.75      0              DSL            Yes           No   \n",
       "4        151.65      1      Fiber optic             No           No   \n",
       "\n",
       "  DeviceProtection TechSupport StreamingTV StreamingMovies MultipleLines  \n",
       "0               No          No          No              No           NaN  \n",
       "1              Yes          No          No              No            No  \n",
       "2               No          No          No              No            No  \n",
       "3              Yes         Yes          No              No           NaN  \n",
       "4               No          No          No              No            No  \n",
       "\n",
       "[5 rows x 21 columns]"
      ]
     },
     "metadata": {},
     "output_type": "display_data"
    },
    {
     "name": "stdout",
     "output_type": "stream",
     "text": [
      "Количество дубликатов: 0\n"
     ]
    }
   ],
   "source": [
    "# Объединение данных\n",
    "merged_data = pd.merge(personal_data, contract_data, on='customerID', how='left')\n",
    "merged_data = pd.merge(merged_data, internet_data, on='customerID', how='left')\n",
    "merged_data = pd.merge(merged_data, phone_data, on='customerID', how='left')\n",
    "\n",
    "# Обеспечение того, чтобы у каждого клиента была только одна запись\n",
    "merged_data_duplicates = merged_data.duplicated(subset=['customerID']).sum()\n",
    "\n",
    "# Проверка объединенных данных и наличия дубликатов.\n",
    "display(merged_data.head()) \n",
    "print(\"Количество дубликатов: {}\".format(merged_data_duplicates))"
   ]
  },
  {
   "cell_type": "markdown",
   "metadata": {},
   "source": [
    "*Данные из всех четырех таблиц были успешно объединены в один DataFrame. Каждый клиент представлен только одной записью, на что указывает отсутствие дубликатов.*\n",
    "\n",
    "**Обзор объединенных данных**\n",
    "\n",
    "- Объединенный набор данных содержит различные атрибуты клиентов, включая личные данные, информацию о контрактах, интернет-услугах и телефонных услугах, а также статус оттока."
   ]
  },
  {
   "cell_type": "code",
   "execution_count": 7,
   "metadata": {},
   "outputs": [
    {
     "data": {
      "image/png": "[encoded data removed]",
      "text/plain": [
       "<Figure size 720x504 with 1 Axes>"
      ]
     },
     "metadata": {},
     "output_type": "display_data"
    },
    {
     "data": {
      "image/png": "[encoded data removed]",
      "text/plain": [
       "<Figure size 720x576 with 2 Axes>"
      ]
     },
     "metadata": {},
     "output_type": "display_data"
    },
    {
     "data": {
      "text/html": [
       "<div>\n",
       "<style scoped>\n",
       "    .dataframe tbody tr th:only-of-type {\n",
       "        vertical-align: middle;\n",
       "    }\n",
       "\n",
       "    .dataframe tbody tr th {\n",
       "        vertical-align: top;\n",
       "    }\n",
       "\n",
       "    .dataframe thead th {\n",
       "        text-align: right;\n",
       "    }\n",
       "</style>\n",
       "<table border=\"1\" class=\"dataframe\">\n",
       "  <thead>\n",
       "    <tr style=\"text-align: right;\">\n",
       "      <th></th>\n",
       "      <th>BeginDate</th>\n",
       "      <th>EndDate</th>\n",
       "      <th>ContractDuration</th>\n",
       "    </tr>\n",
       "  </thead>\n",
       "  <tbody>\n",
       "    <tr>\n",
       "      <th>0</th>\n",
       "      <td>2019-04-29</td>\n",
       "      <td>NaT</td>\n",
       "      <td>9.266667</td>\n",
       "    </tr>\n",
       "    <tr>\n",
       "      <th>1</th>\n",
       "      <td>2019-03-26</td>\n",
       "      <td>NaT</td>\n",
       "      <td>10.400000</td>\n",
       "    </tr>\n",
       "    <tr>\n",
       "      <th>2</th>\n",
       "      <td>2018-08-09</td>\n",
       "      <td>2019-12-01</td>\n",
       "      <td>15.966667</td>\n",
       "    </tr>\n",
       "    <tr>\n",
       "      <th>3</th>\n",
       "      <td>2018-12-22</td>\n",
       "      <td>NaT</td>\n",
       "      <td>13.533333</td>\n",
       "    </tr>\n",
       "    <tr>\n",
       "      <th>4</th>\n",
       "      <td>2019-01-26</td>\n",
       "      <td>2019-11-01</td>\n",
       "      <td>9.300000</td>\n",
       "    </tr>\n",
       "  </tbody>\n",
       "</table>\n",
       "</div>"
      ],
      "text/plain": [
       "   BeginDate    EndDate  ContractDuration\n",
       "0 2019-04-29        NaT          9.266667\n",
       "1 2019-03-26        NaT         10.400000\n",
       "2 2018-08-09 2019-12-01         15.966667\n",
       "3 2018-12-22        NaT         13.533333\n",
       "4 2019-01-26 2019-11-01          9.300000"
      ]
     },
     "execution_count": 7,
     "metadata": {},
     "output_type": "execute_result"
    }
   ],
   "source": [
    "# Задание эстетического стиля для графиков\n",
    "sns.set(style=\"whitegrid\")\n",
    "\n",
    "# Проведение исследовательского анализа\n",
    "# 1. Распределение оттока\n",
    "plt.figure(figsize=(10, 7))\n",
    "sns.countplot(x='Churn', data=merged_data)\n",
    "plt.title('Распределение оттока клиентов')\n",
    "plt.show()\n",
    "\n",
    "# 2. Корреляционный анализ\n",
    "# Выбор числовых признаков для корреляционного анализа\n",
    "numerical_features = merged_data.select_dtypes(include=['int64', 'float64'])\n",
    "correlation_matrix = numerical_features.corr()\n",
    "\n",
    "plt.figure(figsize=(10, 8))\n",
    "sns.heatmap(correlation_matrix, annot=True, cmap='coolwarm')\n",
    "plt.title('Матрица корреляции')\n",
    "plt.show()\n",
    "\n",
    "# 3. Функция продолжительности контракта\n",
    "# Создание нового признака «ContractDuration» в месяцах\n",
    "merged_data['ContractDuration'] = (\n",
    "    (merged_data['EndDate'].fillna(pd.to_datetime('2020-02-01')) - merged_data['BeginDate'])\n",
    "    .dt.days / 30\n",
    ")\n",
    "\n",
    "merged_data[['BeginDate', 'EndDate', 'ContractDuration']].head()"
   ]
  },
  {
   "cell_type": "markdown",
   "metadata": {},
   "source": [
    "Исследовательский анализ позволил получить ценную информацию:\n",
    "\n",
    "1. **Распределение оттока клиентов**:\n",
    "    - График подсчета показывает распределение ушедших и не ушедших клиентов. Эта визуализация необходима для понимания баланса набора данных.\n",
    "\n",
    "\n",
    "2. **Корреляционный анализ**:\n",
    "    - Была создана тепловая карта корреляционной матрицы числовых признаков. Это помогает выявить любые существенные корреляции между признаками, особенно теми, которые могут иметь отношение к оттоку клиентов.\n",
    "\n",
    "\n",
    "3. **Срок действия контракта**:\n",
    "    - Был создан новый признак \"ContractDuration\". Он представляет собой продолжительность контракта в месяцах, рассчитанную как разница между BeginDate и EndDate (при условии, что дата извлечения данных — «01 февраля 2020 г.» для текущих клиентов). Этот признак может иметь решающее значение для прогнозирования оттока клиентов."
   ]
  },
  {
   "cell_type": "code",
   "execution_count": 8,
   "metadata": {},
   "outputs": [
    {
     "data": {
      "text/html": [
       "<div>\n",
       "<style scoped>\n",
       "    .dataframe tbody tr th:only-of-type {\n",
       "        vertical-align: middle;\n",
       "    }\n",
       "\n",
       "    .dataframe tbody tr th {\n",
       "        vertical-align: top;\n",
       "    }\n",
       "\n",
       "    .dataframe thead th {\n",
       "        text-align: right;\n",
       "    }\n",
       "</style>\n",
       "<table border=\"1\" class=\"dataframe\">\n",
       "  <thead>\n",
       "    <tr style=\"text-align: right;\">\n",
       "      <th></th>\n",
       "      <th>gender</th>\n",
       "      <th>SeniorCitizen</th>\n",
       "      <th>Partner</th>\n",
       "      <th>Dependents</th>\n",
       "      <th>BeginDate</th>\n",
       "      <th>EndDate</th>\n",
       "      <th>Type</th>\n",
       "      <th>PaperlessBilling</th>\n",
       "      <th>PaymentMethod</th>\n",
       "      <th>MonthlyCharges</th>\n",
       "      <th>...</th>\n",
       "      <th>Churn</th>\n",
       "      <th>InternetService</th>\n",
       "      <th>OnlineSecurity</th>\n",
       "      <th>OnlineBackup</th>\n",
       "      <th>DeviceProtection</th>\n",
       "      <th>TechSupport</th>\n",
       "      <th>StreamingTV</th>\n",
       "      <th>StreamingMovies</th>\n",
       "      <th>MultipleLines</th>\n",
       "      <th>ContractDuration</th>\n",
       "    </tr>\n",
       "  </thead>\n",
       "  <tbody>\n",
       "    <tr>\n",
       "      <th>0</th>\n",
       "      <td>0</td>\n",
       "      <td>-0.439916</td>\n",
       "      <td>1</td>\n",
       "      <td>0</td>\n",
       "      <td>2019-04-29</td>\n",
       "      <td>NaT</td>\n",
       "      <td>0</td>\n",
       "      <td>1</td>\n",
       "      <td>2</td>\n",
       "      <td>-1.160323</td>\n",
       "      <td>...</td>\n",
       "      <td>0</td>\n",
       "      <td>0</td>\n",
       "      <td>0</td>\n",
       "      <td>1</td>\n",
       "      <td>0</td>\n",
       "      <td>0</td>\n",
       "      <td>0</td>\n",
       "      <td>0</td>\n",
       "      <td>2</td>\n",
       "      <td>-0.231078</td>\n",
       "    </tr>\n",
       "    <tr>\n",
       "      <th>1</th>\n",
       "      <td>1</td>\n",
       "      <td>-0.439916</td>\n",
       "      <td>0</td>\n",
       "      <td>0</td>\n",
       "      <td>2019-03-26</td>\n",
       "      <td>NaT</td>\n",
       "      <td>1</td>\n",
       "      <td>0</td>\n",
       "      <td>3</td>\n",
       "      <td>-0.259629</td>\n",
       "      <td>...</td>\n",
       "      <td>0</td>\n",
       "      <td>0</td>\n",
       "      <td>1</td>\n",
       "      <td>0</td>\n",
       "      <td>1</td>\n",
       "      <td>0</td>\n",
       "      <td>0</td>\n",
       "      <td>0</td>\n",
       "      <td>0</td>\n",
       "      <td>0.174349</td>\n",
       "    </tr>\n",
       "    <tr>\n",
       "      <th>2</th>\n",
       "      <td>1</td>\n",
       "      <td>-0.439916</td>\n",
       "      <td>0</td>\n",
       "      <td>0</td>\n",
       "      <td>2018-08-09</td>\n",
       "      <td>2019-12-01</td>\n",
       "      <td>0</td>\n",
       "      <td>1</td>\n",
       "      <td>3</td>\n",
       "      <td>-0.362660</td>\n",
       "      <td>...</td>\n",
       "      <td>1</td>\n",
       "      <td>0</td>\n",
       "      <td>1</td>\n",
       "      <td>1</td>\n",
       "      <td>0</td>\n",
       "      <td>0</td>\n",
       "      <td>0</td>\n",
       "      <td>0</td>\n",
       "      <td>0</td>\n",
       "      <td>2.165711</td>\n",
       "    </tr>\n",
       "    <tr>\n",
       "      <th>3</th>\n",
       "      <td>1</td>\n",
       "      <td>-0.439916</td>\n",
       "      <td>0</td>\n",
       "      <td>0</td>\n",
       "      <td>2018-12-22</td>\n",
       "      <td>NaT</td>\n",
       "      <td>1</td>\n",
       "      <td>0</td>\n",
       "      <td>0</td>\n",
       "      <td>-0.746535</td>\n",
       "      <td>...</td>\n",
       "      <td>0</td>\n",
       "      <td>0</td>\n",
       "      <td>1</td>\n",
       "      <td>0</td>\n",
       "      <td>1</td>\n",
       "      <td>1</td>\n",
       "      <td>0</td>\n",
       "      <td>0</td>\n",
       "      <td>2</td>\n",
       "      <td>1.295235</td>\n",
       "    </tr>\n",
       "    <tr>\n",
       "      <th>4</th>\n",
       "      <td>0</td>\n",
       "      <td>-0.439916</td>\n",
       "      <td>0</td>\n",
       "      <td>0</td>\n",
       "      <td>2019-01-26</td>\n",
       "      <td>2019-11-01</td>\n",
       "      <td>0</td>\n",
       "      <td>1</td>\n",
       "      <td>2</td>\n",
       "      <td>0.197365</td>\n",
       "      <td>...</td>\n",
       "      <td>1</td>\n",
       "      <td>1</td>\n",
       "      <td>0</td>\n",
       "      <td>0</td>\n",
       "      <td>0</td>\n",
       "      <td>0</td>\n",
       "      <td>0</td>\n",
       "      <td>0</td>\n",
       "      <td>0</td>\n",
       "      <td>-0.219153</td>\n",
       "    </tr>\n",
       "  </tbody>\n",
       "</table>\n",
       "<p>5 rows × 21 columns</p>\n",
       "</div>"
      ],
      "text/plain": [
       "   gender  SeniorCitizen  Partner  Dependents  BeginDate    EndDate  Type  \\\n",
       "0       0      -0.439916        1           0 2019-04-29        NaT     0   \n",
       "1       1      -0.439916        0           0 2019-03-26        NaT     1   \n",
       "2       1      -0.439916        0           0 2018-08-09 2019-12-01     0   \n",
       "3       1      -0.439916        0           0 2018-12-22        NaT     1   \n",
       "4       0      -0.439916        0           0 2019-01-26 2019-11-01     0   \n",
       "\n",
       "   PaperlessBilling  PaymentMethod  MonthlyCharges  ...  Churn  \\\n",
       "0                 1              2       -1.160323  ...      0   \n",
       "1                 0              3       -0.259629  ...      0   \n",
       "2                 1              3       -0.362660  ...      1   \n",
       "3                 0              0       -0.746535  ...      0   \n",
       "4                 1              2        0.197365  ...      1   \n",
       "\n",
       "   InternetService  OnlineSecurity  OnlineBackup  DeviceProtection  \\\n",
       "0                0               0             1                 0   \n",
       "1                0               1             0                 1   \n",
       "2                0               1             1                 0   \n",
       "3                0               1             0                 1   \n",
       "4                1               0             0                 0   \n",
       "\n",
       "   TechSupport  StreamingTV  StreamingMovies  MultipleLines  ContractDuration  \n",
       "0            0            0                0              2         -0.231078  \n",
       "1            0            0                0              0          0.174349  \n",
       "2            0            0                0              0          2.165711  \n",
       "3            1            0                0              2          1.295235  \n",
       "4            0            0                0              0         -0.219153  \n",
       "\n",
       "[5 rows x 21 columns]"
      ]
     },
     "execution_count": 8,
     "metadata": {},
     "output_type": "execute_result"
    }
   ],
   "source": [
    "# Обработка категориальных переменных\n",
    "# Выбор категориальных столбцов\n",
    "categorical_cols = merged_data.select_dtypes(include=['object']).columns\n",
    "\n",
    "# # Применение label encoding к категориальным столбцам\n",
    "label_encoder = LabelEncoder()\n",
    "for col in categorical_cols:\n",
    "    if col != 'customerID':  # Исключение идентификатора клиента из кодирования\n",
    "        merged_data[col] = label_encoder.fit_transform(merged_data[col])\n",
    "\n",
    "# Масштабирование числовых признаков\n",
    "# Выбор числовых столбцов (за исключением двоичных столбцов, таких как «Отток»)\n",
    "if 'Churn' in merged_data.columns:\n",
    "    # Выбор числовых столбцов, исключая «Отток»\n",
    "    numerical_cols = [col for col in merged_data.select_dtypes(include=['int64', 'float64']).columns if col != 'Churn']\n",
    "else:\n",
    "    # Выбор всех числовых столбцов\n",
    "    numerical_cols = merged_data.select_dtypes(include=['int64', 'float64']).columns\n",
    "\n",
    "# Применение стандартного масштабирования\n",
    "scaler = StandardScaler()\n",
    "merged_data[numerical_cols] = scaler.fit_transform(merged_data[numerical_cols])\n",
    "\n",
    "# Окончательный набор данных для обучения модели\n",
    "final_data = merged_data.drop(['customerID'], axis=1)\n",
    "\n",
    "# Отображение первых нескольких строк обработанных данных\n",
    "final_data.head()"
   ]
  },
  {
   "cell_type": "markdown",
   "metadata": {},
   "source": [
    "Этапы предварительной обработки успешно завершены:\n",
    "\n",
    "1. **Обработка категориальных переменных:**\n",
    "    - К категориальным столбцам применено кодирование меток (Label encoding), преобразующее их в числовые значения. `customerID` был исключен из этой кодировки, поскольку это идентификатор.\n",
    "\n",
    "\n",
    "2. **Масштабирование числовых признаков:**\n",
    "    - К числовым столбцам применено стандартное масштабирование, нормализующее их распределение.\n",
    "\n",
    "\n",
    "3. **Окончательный набор данных для обучения модели:**\n",
    "    - Исключен столбец «customerID», который не используется для обучения модели.\n",
    "    - Окончательный набор данных готов к следующему этапу обучения модели.\n",
    "\n",
    "После завершения этих этапов предварительной обработки наш набор данных подготовлен для обучения моделей машинного обучения для прогнозирования оттока клиентов. Следующим шагом будет разделение данных на обучающий и тестовый наборы, выбор подходящих моделей и продолжение процесса обучения и проверки."
   ]
  },
  {
   "cell_type": "markdown",
   "metadata": {},
   "source": [
    "## 3. Обучение Моделей"
   ]
  },
  {
   "cell_type": "code",
   "execution_count": 9,
   "metadata": {},
   "outputs": [
    {
     "data": {
      "text/plain": [
       "((5282, 20), (1761, 20), (5282,), (1761,))"
      ]
     },
     "execution_count": 9,
     "metadata": {},
     "output_type": "execute_result"
    }
   ],
   "source": [
    "# Определение признаков (X) и таргета (y)\n",
    "X = final_data.drop('Churn', axis=1)\n",
    "y = final_data['Churn']\n",
    "\n",
    "# Разделение данных на обучающий и тестовый наборы\n",
    "# Использование размера теста 25% и случайного состояния для воспроизводимости.\n",
    "RANDOM_STATE = 150124  # дата начала проекта\n",
    "X_train, X_test, y_train, y_test = train_test_split(X, y, test_size=0.25, random_state=RANDOM_STATE)\n",
    "\n",
    "# Подтверждение разделения\n",
    "(X_train.shape, X_test.shape, y_train.shape, y_test.shape)"
   ]
  },
  {
   "cell_type": "markdown",
   "metadata": {},
   "source": [
    "Набор данных был успешно разделен на обучающий и тестовый наборы:\n",
    "\n",
    "- Обучающий набор: 5282 образца.\n",
    "- Тестовый набор: 1761 образец.\n",
    "- Признаков в каждом наборе: 20 признаков.\n",
    "- Целевая переменная («Отток»): присутствует как в обучающих, так и в тестовых наборах."
   ]
  },
  {
   "cell_type": "code",
   "execution_count": 10,
   "metadata": {},
   "outputs": [
    {
     "data": {
      "text/plain": [
       "(0.6422855193586902, 0.8200098681805998)"
      ]
     },
     "execution_count": 10,
     "metadata": {},
     "output_type": "execute_result"
    }
   ],
   "source": [
    "# Удаление столбцов «BeginDate» и «EndDate» из набора признаков.\n",
    "X_modified = X.drop(['BeginDate', 'EndDate'], axis=1)\n",
    "\n",
    "# Снова разбиваем измененные данные на обучающий и тестовый наборы\n",
    "X_train_modified, X_test_modified, y_train, y_test = train_test_split(\n",
    "    X_modified, y, test_size=0.25, random_state=RANDOM_STATE\n",
    ")\n",
    "\n",
    "# Создадим SimpleImputer со стратегией (например, среднее, медиана, самое частое)\n",
    "imputer = SimpleImputer(strategy='median')\n",
    "\n",
    "# Подгоним и преобразуем преобразователь к нашим обучающим данным\n",
    "X_train_modified = imputer.fit_transform(X_train_modified)\n",
    "\n",
    "# Преобразуем тестовые данные, используя тот же преобразователь\n",
    "X_test_modified = imputer.transform(X_test_modified)\n",
    "\n",
    "# Модель Решающее Дерево (Decision Tree)\n",
    "dt_model = DecisionTreeClassifier(random_state=RANDOM_STATE)\n",
    "dt_model.fit(X_train_modified, y_train)\n",
    "dt_cv_score = cross_val_score(dt_model, X_train_modified, y_train, cv=5, scoring='roc_auc').mean()\n",
    "\n",
    "# Модель Случайный Лес (Random Forest)\n",
    "rf_model = RandomForestClassifier(random_state=RANDOM_STATE)\n",
    "rf_model.fit(X_train_modified, y_train)\n",
    "rf_cv_score = cross_val_score(rf_model, X_train_modified, y_train, cv=5, scoring='roc_auc').mean()\n",
    "\n",
    "(dt_cv_score, rf_cv_score)"
   ]
  },
  {
   "cell_type": "markdown",
   "metadata": {},
   "source": [
    "Обучение и перекрестная проверка моделей дерева решений и случайного леса успешно завершены. Вот оценки ROC-AUC по результатам 5-кратной перекрестной проверки:\n",
    "\n",
    "- Модель **Decision Tree** ≈ 0,64.\n",
    "- Модель **Random Forest** ≈ 0,82.\n",
    "\n",
    "Модель случайного леса демонстрирует значительно более высокий показатель ROC-AUC по сравнению с моделью дерева решений, что указывает на лучшую эффективность прогнозирования оттока клиентов и что уже очень близко к проектному требованию по метрике."
   ]
  },
  {
   "cell_type": "code",
   "execution_count": 11,
   "metadata": {},
   "outputs": [
    {
     "data": {
      "text/plain": [
       "0.8088648507020378"
      ]
     },
     "execution_count": 11,
     "metadata": {},
     "output_type": "execute_result"
    }
   ],
   "source": [
    "# Обучение модели XGBoost\n",
    "xgb_model = XGBClassifier(random_state=RANDOM_STATE, use_label_encoder=False, eval_metric='logloss')\n",
    "xgb_model.fit(X_train_modified, y_train)\n",
    "xgb_cv_score = cross_val_score(xgb_model, X_train_modified, y_train, cv=5, scoring='roc_auc').mean()\n",
    "\n",
    "xgb_cv_score"
   ]
  },
  {
   "cell_type": "markdown",
   "metadata": {},
   "source": [
    "Как видно, модель XGBoost показала результат послабее, чем Random Forest!"
   ]
  },
  {
   "cell_type": "code",
   "execution_count": 12,
   "metadata": {},
   "outputs": [
    {
     "name": "stdout",
     "output_type": "stream",
     "text": [
      "Epoch [1/10], Loss: 0.5107\n",
      "Epoch [2/10], Loss: 0.4300\n",
      "Epoch [3/10], Loss: 0.4544\n",
      "Epoch [4/10], Loss: 0.5263\n",
      "Epoch [5/10], Loss: 0.2923\n",
      "Epoch [6/10], Loss: 0.3135\n",
      "Epoch [7/10], Loss: 0.3975\n",
      "Epoch [8/10], Loss: 0.3600\n",
      "Epoch [9/10], Loss: 0.2750\n",
      "Epoch [10/10], Loss: 0.5352\n"
     ]
    },
    {
     "data": {
      "text/plain": [
       "0.8561256023284272"
      ]
     },
     "execution_count": 12,
     "metadata": {},
     "output_type": "execute_result"
    }
   ],
   "source": [
    "# Настройка устройства\n",
    "device = torch.device(\"cuda\" if torch.cuda.is_available() else \"cpu\")\n",
    "\n",
    "# Преобразование данных в тензоры PyTorch\n",
    "X_train_tensor = torch.tensor(X_train_modified, dtype=torch.float32)\n",
    "y_train_tensor = torch.tensor(y_train.values, dtype=torch.float32)\n",
    "X_test_tensor = torch.tensor(X_test_modified, dtype=torch.float32)\n",
    "y_test_tensor = torch.tensor(y_test.values, dtype=torch.float32)\n",
    "\n",
    "# Создание наборов данных и загрузчиков данных\n",
    "train_dataset = TensorDataset(X_train_tensor, y_train_tensor)\n",
    "train_loader = DataLoader(train_dataset, batch_size=64, shuffle=True)\n",
    "\n",
    "# Определение модели нейронной сети\n",
    "class NeuralNetwork(nn.Module):\n",
    "    def __init__(self, input_size):\n",
    "        super(NeuralNetwork, self).__init__()\n",
    "        self.fc1 = nn.Linear(input_size, 64)\n",
    "        self.fc2 = nn.Linear(64, 32)\n",
    "        self.fc3 = nn.Linear(32, 16)\n",
    "        self.fc4 = nn.Linear(16, 1)\n",
    "\n",
    "    def forward(self, x):\n",
    "        x = F.relu(self.fc1(x))\n",
    "        x = F.relu(self.fc2(x))\n",
    "        x = F.relu(self.fc3(x))\n",
    "        x = torch.sigmoid(self.fc4(x))\n",
    "        return x\n",
    "\n",
    "# Инициализация нейронной сети\n",
    "model = NeuralNetwork(X_train_modified.shape[1]).to(device)\n",
    "\n",
    "# Потеря и оптимизатор\n",
    "criterion = nn.BCELoss()\n",
    "optimizer = torch.optim.Adam(model.parameters(), lr=0.001)\n",
    "\n",
    "# Обучение нейронной сети\n",
    "num_epochs = 10\n",
    "for epoch in range(num_epochs):\n",
    "    model.train()\n",
    "    for data, target in train_loader:\n",
    "        data, target = data.to(device), target.to(device)\n",
    "        # Прямой проход\n",
    "        output = model(data)\n",
    "        loss = criterion(output, target.unsqueeze(1))\n",
    "        # Обратный проход и оптимизация\n",
    "        optimizer.zero_grad()\n",
    "        loss.backward()\n",
    "        optimizer.step()\n",
    "\n",
    "    print(f\"Epoch [{epoch+1}/{num_epochs}], Loss: {loss.item():.4f}\")\n",
    "\n",
    "# Оценка модели\n",
    "model.eval()\n",
    "with torch.no_grad():\n",
    "    y_pred = model(X_test_tensor.to(device))\n",
    "    y_pred = y_pred.cpu().numpy()\n",
    "    roc_score = roc_auc_score(y_test, y_pred)\n",
    "\n",
    "roc_score"
   ]
  },
  {
   "cell_type": "markdown",
   "metadata": {},
   "source": [
    "Модель нейронной сети, обученная с помощью PyTorch, показала многообещающие результаты:\n",
    "\n",
    "- Потери во время обучения колебались в зависимости от эпохи, что часто встречается при обучении нейронных сетей. Важно отслеживать тенденцию потерь на протяжении большего количества эпох и, возможно, рассмотреть возможность корректировки скорости обучения или использования таких методов, как ранняя остановка, для стабилизации обучения.\n",
    "- Показатель ROC-AUC на тестовом наборе составляет примерно 0,855, что является сильным показателем производительности. Этот балл демонстрирует способность модели различать ушедших и не ушедших клиентов.\n",
    "\n",
    "### Ключевые выводы и следующие шаги:\n",
    "\n",
    "1. **Эффективность модели.** Нейронная сеть показала хорошие прогнозные характеристики: значение ROC-AUC составляет около 0,855. По сравнению с другими моделями (дерево решений, случайный лес, XGBoost) он работает конкурентоспособно.\n",
    "\n",
    "2. **Настройка модели.** Чтобы еще больше повысить производительность, можно рассмотреть возможность настройки гиперпараметров (например, количества слоев, единиц в каждом слое, скорости обучения), использования методов регуляризации для предотвращения переобучения и экспериментирования с различными функциями активации.\n",
    "\n",
    "3. **Проверка модели.** Проверить модель на различных подмножествах данных или рассмотреть возможность реализации K-fold кросс-валидации для более надежной проверки.\n",
    "\n",
    "4. **Интерпретируемость модели**. Несмотря на то, что нейронные сети мощные, их сложнее интерпретировать, чем более простые модели, такие как деревья решений или случайный лес. Необходимо учитывать этот фактор, исходя из требований проекта."
   ]
  },
  {
   "cell_type": "code",
   "execution_count": 13,
   "metadata": {},
   "outputs": [
    {
     "name": "stderr",
     "output_type": "stream",
     "text": [
      "[I 2024-01-15 22:55:06,783] A new study created in memory with name: no-name-68710868-6b5a-4833-80df-2c41006a2ab0\n",
      "[I 2024-01-15 22:55:08,496] Trial 0 finished with value: 0.857959376965993 and parameters: {'n_neurons': 19, 'lr': 0.0009510634894659244}. Best is trial 0 with value: 0.857959376965993.\n"
     ]
    },
    {
     "name": "stdout",
     "output_type": "stream",
     "text": [
      "Epoch [10/10], Loss: 0.2250\n"
     ]
    },
    {
     "name": "stderr",
     "output_type": "stream",
     "text": [
      "[I 2024-01-15 22:55:10,608] Trial 1 finished with value: 0.8325596106383126 and parameters: {'n_neurons': 108, 'lr': 8.768199233284304e-05}. Best is trial 0 with value: 0.857959376965993.\n"
     ]
    },
    {
     "name": "stdout",
     "output_type": "stream",
     "text": [
      "Epoch [10/10], Loss: 0.4203\n"
     ]
    },
    {
     "name": "stderr",
     "output_type": "stream",
     "text": [
      "[I 2024-01-15 22:55:12,522] Trial 2 finished with value: 0.8539375168513692 and parameters: {'n_neurons': 120, 'lr': 0.001754377880934791}. Best is trial 0 with value: 0.857959376965993.\n"
     ]
    },
    {
     "name": "stdout",
     "output_type": "stream",
     "text": [
      "Epoch [10/10], Loss: 0.5398\n"
     ]
    },
    {
     "name": "stderr",
     "output_type": "stream",
     "text": [
      "[I 2024-01-15 22:55:14,280] Trial 3 finished with value: 0.8544871307389714 and parameters: {'n_neurons': 61, 'lr': 0.00142200476350912}. Best is trial 0 with value: 0.857959376965993.\n"
     ]
    },
    {
     "name": "stdout",
     "output_type": "stream",
     "text": [
      "Epoch [10/10], Loss: 0.2721\n"
     ]
    },
    {
     "name": "stderr",
     "output_type": "stream",
     "text": [
      "[I 2024-01-15 22:55:16,052] Trial 4 finished with value: 0.7175088318458039 and parameters: {'n_neurons': 38, 'lr': 1.6809284735760148e-05}. Best is trial 0 with value: 0.857959376965993.\n"
     ]
    },
    {
     "name": "stdout",
     "output_type": "stream",
     "text": [
      "Epoch [10/10], Loss: 0.6239\n"
     ]
    },
    {
     "name": "stderr",
     "output_type": "stream",
     "text": [
      "[I 2024-01-15 22:55:17,882] Trial 5 finished with value: 0.8535434540640318 and parameters: {'n_neurons': 48, 'lr': 0.0067202196153229475}. Best is trial 0 with value: 0.857959376965993.\n"
     ]
    },
    {
     "name": "stdout",
     "output_type": "stream",
     "text": [
      "Epoch [10/10], Loss: 0.4764\n"
     ]
    },
    {
     "name": "stderr",
     "output_type": "stream",
     "text": [
      "[I 2024-01-15 22:55:19,666] Trial 6 finished with value: 0.8569431097775965 and parameters: {'n_neurons': 70, 'lr': 0.006231234791414982}. Best is trial 0 with value: 0.857959376965993.\n"
     ]
    },
    {
     "name": "stdout",
     "output_type": "stream",
     "text": [
      "Epoch [10/10], Loss: 0.2876\n"
     ]
    },
    {
     "name": "stderr",
     "output_type": "stream",
     "text": [
      "[I 2024-01-15 22:55:21,706] Trial 7 finished with value: 0.8572974206170885 and parameters: {'n_neurons': 42, 'lr': 0.0016194144620474455}. Best is trial 0 with value: 0.857959376965993.\n"
     ]
    },
    {
     "name": "stdout",
     "output_type": "stream",
     "text": [
      "Epoch [10/10], Loss: 0.4569\n"
     ]
    },
    {
     "name": "stderr",
     "output_type": "stream",
     "text": [
      "[I 2024-01-15 22:55:23,478] Trial 8 finished with value: 0.7365984085394097 and parameters: {'n_neurons': 57, 'lr': 2.6075195715954514e-05}. Best is trial 0 with value: 0.857959376965993.\n"
     ]
    },
    {
     "name": "stdout",
     "output_type": "stream",
     "text": [
      "Epoch [10/10], Loss: 0.6116\n"
     ]
    },
    {
     "name": "stderr",
     "output_type": "stream",
     "text": [
      "[I 2024-01-15 22:55:25,277] Trial 9 finished with value: 0.8509301955795835 and parameters: {'n_neurons': 99, 'lr': 0.00024270392987664163}. Best is trial 0 with value: 0.857959376965993.\n"
     ]
    },
    {
     "name": "stdout",
     "output_type": "stream",
     "text": [
      "Epoch [10/10], Loss: 0.5104\n"
     ]
    },
    {
     "name": "stderr",
     "output_type": "stream",
     "text": [
      "[I 2024-01-15 22:55:26,741] Trial 10 finished with value: 0.8439303960676684 and parameters: {'n_neurons': 16, 'lr': 0.00032966336099659276}. Best is trial 0 with value: 0.857959376965993.\n"
     ]
    },
    {
     "name": "stdout",
     "output_type": "stream",
     "text": [
      "Epoch [10/10], Loss: 0.3889\n"
     ]
    },
    {
     "name": "stderr",
     "output_type": "stream",
     "text": [
      "[I 2024-01-15 22:55:28,158] Trial 11 finished with value: 0.8514037622626118 and parameters: {'n_neurons': 18, 'lr': 0.0014907729889382933}. Best is trial 0 with value: 0.857959376965993.\n"
     ]
    },
    {
     "name": "stdout",
     "output_type": "stream",
     "text": [
      "Epoch [10/10], Loss: 0.2699\n"
     ]
    },
    {
     "name": "stderr",
     "output_type": "stream",
     "text": [
      "[I 2024-01-15 22:55:30,021] Trial 12 finished with value: 0.8510719199153802 and parameters: {'n_neurons': 35, 'lr': 0.0004845551004278861}. Best is trial 0 with value: 0.857959376965993.\n"
     ]
    },
    {
     "name": "stdout",
     "output_type": "stream",
     "text": [
      "Epoch [10/10], Loss: 0.3972\n"
     ]
    },
    {
     "name": "stderr",
     "output_type": "stream",
     "text": [
      "[I 2024-01-15 22:55:31,876] Trial 13 finished with value: 0.8533913596548839 and parameters: {'n_neurons': 86, 'lr': 0.000797040221205722}. Best is trial 0 with value: 0.857959376965993.\n"
     ]
    },
    {
     "name": "stdout",
     "output_type": "stream",
     "text": [
      "Epoch [10/10], Loss: 0.5088\n"
     ]
    },
    {
     "name": "stderr",
     "output_type": "stream",
     "text": [
      "[I 2024-01-15 22:55:33,613] Trial 14 finished with value: 0.8566734878704708 and parameters: {'n_neurons': 32, 'lr': 0.0034991671672053417}. Best is trial 0 with value: 0.857959376965993.\n"
     ]
    },
    {
     "name": "stdout",
     "output_type": "stream",
     "text": [
      "Epoch [10/10], Loss: 0.4703\n"
     ]
    },
    {
     "name": "stderr",
     "output_type": "stream",
     "text": [
      "[I 2024-01-15 22:55:35,252] Trial 15 finished with value: 0.8313082884539602 and parameters: {'n_neurons': 26, 'lr': 0.00012906474987597094}. Best is trial 0 with value: 0.857959376965993.\n"
     ]
    },
    {
     "name": "stdout",
     "output_type": "stream",
     "text": [
      "Epoch [10/10], Loss: 0.5322\n"
     ]
    },
    {
     "name": "stderr",
     "output_type": "stream",
     "text": [
      "[I 2024-01-15 22:55:37,300] Trial 16 finished with value: 0.853242721936853 and parameters: {'n_neurons': 45, 'lr': 0.002969217559385958}. Best is trial 0 with value: 0.857959376965993.\n"
     ]
    },
    {
     "name": "stdout",
     "output_type": "stream",
     "text": [
      "Epoch [10/10], Loss: 0.4752\n"
     ]
    },
    {
     "name": "stderr",
     "output_type": "stream",
     "text": [
      "[I 2024-01-15 22:55:39,255] Trial 17 finished with value: 0.8535278989540053 and parameters: {'n_neurons': 81, 'lr': 0.0006771547391739453}. Best is trial 0 with value: 0.857959376965993.\n"
     ]
    },
    {
     "name": "stdout",
     "output_type": "stream",
     "text": [
      "Epoch [10/10], Loss: 0.4881\n"
     ]
    },
    {
     "name": "stderr",
     "output_type": "stream",
     "text": [
      "[I 2024-01-15 22:55:41,374] Trial 18 finished with value: 0.833029720630224 and parameters: {'n_neurons': 47, 'lr': 0.00014137091207220217}. Best is trial 0 with value: 0.857959376965993.\n"
     ]
    },
    {
     "name": "stdout",
     "output_type": "stream",
     "text": [
      "Epoch [10/10], Loss: 0.4904\n"
     ]
    },
    {
     "name": "stderr",
     "output_type": "stream",
     "text": [
      "[I 2024-01-15 22:55:43,193] Trial 19 finished with value: 0.8547930479028256 and parameters: {'n_neurons': 26, 'lr': 0.009128742217019094}. Best is trial 0 with value: 0.857959376965993.\n"
     ]
    },
    {
     "name": "stdout",
     "output_type": "stream",
     "text": [
      "Epoch [10/10], Loss: 0.4389\n"
     ]
    },
    {
     "name": "stderr",
     "output_type": "stream",
     "text": [
      "[I 2024-01-15 22:55:45,254] Trial 20 finished with value: 0.7573247284769127 and parameters: {'n_neurons': 61, 'lr': 4.425194554683031e-05}. Best is trial 0 with value: 0.857959376965993.\n"
     ]
    },
    {
     "name": "stdout",
     "output_type": "stream",
     "text": [
      "Epoch [10/10], Loss: 0.5088\n"
     ]
    },
    {
     "name": "stderr",
     "output_type": "stream",
     "text": [
      "[I 2024-01-15 22:55:47,136] Trial 21 finished with value: 0.8516319038763334 and parameters: {'n_neurons': 77, 'lr': 0.003808676454966956}. Best is trial 0 with value: 0.857959376965993.\n"
     ]
    },
    {
     "name": "stdout",
     "output_type": "stream",
     "text": [
      "Epoch [10/10], Loss: 0.3013\n"
     ]
    },
    {
     "name": "stderr",
     "output_type": "stream",
     "text": [
      "[I 2024-01-15 22:55:49,294] Trial 22 finished with value: 0.8552182209102157 and parameters: {'n_neurons': 69, 'lr': 0.005282801815244685}. Best is trial 0 with value: 0.857959376965993.\n"
     ]
    },
    {
     "name": "stdout",
     "output_type": "stream",
     "text": [
      "Epoch [10/10], Loss: 0.4168\n"
     ]
    },
    {
     "name": "stderr",
     "output_type": "stream",
     "text": [
      "[I 2024-01-15 22:55:51,792] Trial 23 finished with value: 0.8544231819533069 and parameters: {'n_neurons': 90, 'lr': 0.0020638734258588386}. Best is trial 0 with value: 0.857959376965993.\n"
     ]
    },
    {
     "name": "stdout",
     "output_type": "stream",
     "text": [
      "Epoch [10/10], Loss: 0.5296\n"
     ]
    },
    {
     "name": "stderr",
     "output_type": "stream",
     "text": [
      "[I 2024-01-15 22:55:53,984] Trial 24 finished with value: 0.8556969726299197 and parameters: {'n_neurons': 69, 'lr': 0.0009056226491283663}. Best is trial 0 with value: 0.857959376965993.\n"
     ]
    },
    {
     "name": "stdout",
     "output_type": "stream",
     "text": [
      "Epoch [10/10], Loss: 0.5998\n"
     ]
    },
    {
     "name": "stderr",
     "output_type": "stream",
     "text": [
      "[I 2024-01-15 22:55:56,252] Trial 25 finished with value: 0.854333307984265 and parameters: {'n_neurons': 54, 'lr': 0.009749537004503346}. Best is trial 0 with value: 0.857959376965993.\n"
     ]
    },
    {
     "name": "stdout",
     "output_type": "stream",
     "text": [
      "Epoch [10/10], Loss: 0.4563\n"
     ]
    },
    {
     "name": "stderr",
     "output_type": "stream",
     "text": [
      "[I 2024-01-15 22:55:58,157] Trial 26 finished with value: 0.8550263745532227 and parameters: {'n_neurons': 24, 'lr': 0.0010881767323247245}. Best is trial 0 with value: 0.857959376965993.\n"
     ]
    },
    {
     "name": "stdout",
     "output_type": "stream",
     "text": [
      "Epoch [10/10], Loss: 0.3813\n"
     ]
    },
    {
     "name": "stderr",
     "output_type": "stream",
     "text": [
      "[I 2024-01-15 22:56:00,129] Trial 27 finished with value: 0.8528555725317497 and parameters: {'n_neurons': 35, 'lr': 0.002432819459122865}. Best is trial 0 with value: 0.857959376965993.\n"
     ]
    },
    {
     "name": "stdout",
     "output_type": "stream",
     "text": [
      "Epoch [10/10], Loss: 0.4373\n"
     ]
    },
    {
     "name": "stderr",
     "output_type": "stream",
     "text": [
      "[I 2024-01-15 22:56:02,259] Trial 28 finished with value: 0.8529419898096745 and parameters: {'n_neurons': 128, 'lr': 0.0004776653322492937}. Best is trial 0 with value: 0.857959376965993.\n"
     ]
    },
    {
     "name": "stdout",
     "output_type": "stream",
     "text": [
      "Epoch [10/10], Loss: 0.4261\n"
     ]
    },
    {
     "name": "stderr",
     "output_type": "stream",
     "text": [
      "[I 2024-01-15 22:56:04,264] Trial 29 finished with value: 0.8463189696295117 and parameters: {'n_neurons': 100, 'lr': 0.005114792739931869}. Best is trial 0 with value: 0.857959376965993.\n"
     ]
    },
    {
     "name": "stdout",
     "output_type": "stream",
     "text": [
      "Epoch [10/10], Loss: 0.3159\n"
     ]
    },
    {
     "name": "stderr",
     "output_type": "stream",
     "text": [
      "[I 2024-01-15 22:56:06,431] Trial 30 finished with value: 0.8533360525970121 and parameters: {'n_neurons': 50, 'lr': 0.002636585487614405}. Best is trial 0 with value: 0.857959376965993.\n"
     ]
    },
    {
     "name": "stdout",
     "output_type": "stream",
     "text": [
      "Epoch [10/10], Loss: 0.4346\n"
     ]
    },
    {
     "name": "stderr",
     "output_type": "stream",
     "text": [
      "[I 2024-01-15 22:56:08,490] Trial 31 finished with value: 0.8498102276576771 and parameters: {'n_neurons': 40, 'lr': 0.004002059318098155}. Best is trial 0 with value: 0.857959376965993.\n"
     ]
    },
    {
     "name": "stdout",
     "output_type": "stream",
     "text": [
      "Epoch [10/10], Loss: 0.3806\n"
     ]
    },
    {
     "name": "stderr",
     "output_type": "stream",
     "text": [
      "[I 2024-01-15 22:56:10,058] Trial 32 finished with value: 0.8581564083596618 and parameters: {'n_neurons': 28, 'lr': 0.0015358888872681717}. Best is trial 32 with value: 0.8581564083596618.\n"
     ]
    },
    {
     "name": "stdout",
     "output_type": "stream",
     "text": [
      "Epoch [10/10], Loss: 0.4383\n"
     ]
    },
    {
     "name": "stderr",
     "output_type": "stream",
     "text": [
      "[I 2024-01-15 22:56:11,539] Trial 33 finished with value: 0.8527155765415113 and parameters: {'n_neurons': 22, 'lr': 0.001329893806767136}. Best is trial 32 with value: 0.8581564083596618.\n"
     ]
    },
    {
     "name": "stdout",
     "output_type": "stream",
     "text": [
      "Epoch [10/10], Loss: 0.6083\n"
     ]
    },
    {
     "name": "stderr",
     "output_type": "stream",
     "text": [
      "[I 2024-01-15 22:56:13,050] Trial 34 finished with value: 0.8574512433717947 and parameters: {'n_neurons': 29, 'lr': 0.001827494475690109}. Best is trial 32 with value: 0.8581564083596618.\n"
     ]
    },
    {
     "name": "stdout",
     "output_type": "stream",
     "text": [
      "Epoch [10/10], Loss: 0.3618\n"
     ]
    },
    {
     "name": "stderr",
     "output_type": "stream",
     "text": [
      "[I 2024-01-15 22:56:14,611] Trial 35 finished with value: 0.8535175288806544 and parameters: {'n_neurons': 30, 'lr': 0.0016893631899897602}. Best is trial 32 with value: 0.8581564083596618.\n"
     ]
    },
    {
     "name": "stdout",
     "output_type": "stream",
     "text": [
      "Epoch [10/10], Loss: 0.3001\n"
     ]
    },
    {
     "name": "stderr",
     "output_type": "stream",
     "text": [
      "[I 2024-01-15 22:56:16,474] Trial 36 finished with value: 0.8529748283752859 and parameters: {'n_neurons': 42, 'lr': 0.0006106006396014951}. Best is trial 32 with value: 0.8581564083596618.\n"
     ]
    },
    {
     "name": "stdout",
     "output_type": "stream",
     "text": [
      "Epoch [10/10], Loss: 0.4014\n"
     ]
    },
    {
     "name": "stderr",
     "output_type": "stream",
     "text": [
      "[I 2024-01-15 22:56:17,938] Trial 37 finished with value: 0.8446977814956411 and parameters: {'n_neurons': 29, 'lr': 0.00028477245979562863}. Best is trial 32 with value: 0.8581564083596618.\n"
     ]
    },
    {
     "name": "stdout",
     "output_type": "stream",
     "text": [
      "Epoch [10/10], Loss: 0.3599\n"
     ]
    },
    {
     "name": "stderr",
     "output_type": "stream",
     "text": [
      "[I 2024-01-15 22:56:19,502] Trial 38 finished with value: 0.5301890118702772 and parameters: {'n_neurons': 23, 'lr': 1.0925590087547535e-05}. Best is trial 32 with value: 0.8581564083596618.\n"
     ]
    },
    {
     "name": "stdout",
     "output_type": "stream",
     "text": [
      "Epoch [10/10], Loss: 0.6928\n"
     ]
    },
    {
     "name": "stderr",
     "output_type": "stream",
     "text": [
      "[I 2024-01-15 22:56:20,994] Trial 39 finished with value: 0.8535451824095903 and parameters: {'n_neurons': 19, 'lr': 0.0011474951937195115}. Best is trial 32 with value: 0.8581564083596618.\n"
     ]
    },
    {
     "name": "stdout",
     "output_type": "stream",
     "text": [
      "Epoch [10/10], Loss: 0.5251\n"
     ]
    },
    {
     "name": "stderr",
     "output_type": "stream",
     "text": [
      "[I 2024-01-15 22:56:22,856] Trial 40 finished with value: 0.8503287313252262 and parameters: {'n_neurons': 39, 'lr': 0.0004401485275984074}. Best is trial 32 with value: 0.8581564083596618.\n"
     ]
    },
    {
     "name": "stdout",
     "output_type": "stream",
     "text": [
      "Epoch [10/10], Loss: 0.3238\n"
     ]
    },
    {
     "name": "stderr",
     "output_type": "stream",
     "text": [
      "[I 2024-01-15 22:56:24,320] Trial 41 finished with value: 0.8539703554169806 and parameters: {'n_neurons': 17, 'lr': 0.0018412011121792145}. Best is trial 32 with value: 0.8581564083596618.\n"
     ]
    },
    {
     "name": "stdout",
     "output_type": "stream",
     "text": [
      "Epoch [10/10], Loss: 0.3807\n"
     ]
    },
    {
     "name": "stderr",
     "output_type": "stream",
     "text": [
      "[I 2024-01-15 22:56:26,175] Trial 42 finished with value: 0.8484673031587243 and parameters: {'n_neurons': 53, 'lr': 0.0063872613775681104}. Best is trial 32 with value: 0.8581564083596618.\n"
     ]
    },
    {
     "name": "stdout",
     "output_type": "stream",
     "text": [
      "Epoch [10/10], Loss: 0.4169\n"
     ]
    },
    {
     "name": "stderr",
     "output_type": "stream",
     "text": [
      "[I 2024-01-15 22:56:27,963] Trial 43 finished with value: 0.8549036620185693 and parameters: {'n_neurons': 36, 'lr': 0.000934314595082953}. Best is trial 32 with value: 0.8581564083596618.\n"
     ]
    },
    {
     "name": "stdout",
     "output_type": "stream",
     "text": [
      "Epoch [10/10], Loss: 0.5104\n"
     ]
    },
    {
     "name": "stderr",
     "output_type": "stream",
     "text": [
      "[I 2024-01-15 22:56:29,998] Trial 44 finished with value: 0.8564159643822548 and parameters: {'n_neurons': 60, 'lr': 0.0015447075219246168}. Best is trial 32 with value: 0.8581564083596618.\n"
     ]
    },
    {
     "name": "stdout",
     "output_type": "stream",
     "text": [
      "Epoch [10/10], Loss: 0.5487\n"
     ]
    },
    {
     "name": "stderr",
     "output_type": "stream",
     "text": [
      "[I 2024-01-15 22:56:32,149] Trial 45 finished with value: 0.8532358085546192 and parameters: {'n_neurons': 108, 'lr': 0.0023961637492092873}. Best is trial 32 with value: 0.8581564083596618.\n"
     ]
    },
    {
     "name": "stdout",
     "output_type": "stream",
     "text": [
      "Epoch [10/10], Loss: 0.3951\n"
     ]
    },
    {
     "name": "stderr",
     "output_type": "stream",
     "text": [
      "[I 2024-01-15 22:56:33,963] Trial 46 finished with value: 0.8572905072348546 and parameters: {'n_neurons': 32, 'lr': 0.004742172179954916}. Best is trial 32 with value: 0.8581564083596618.\n"
     ]
    },
    {
     "name": "stdout",
     "output_type": "stream",
     "text": [
      "Epoch [10/10], Loss: 0.3705\n"
     ]
    },
    {
     "name": "stderr",
     "output_type": "stream",
     "text": [
      "[I 2024-01-15 22:56:35,506] Trial 47 finished with value: 0.8571314994434727 and parameters: {'n_neurons': 31, 'lr': 0.0031218629781783296}. Best is trial 32 with value: 0.8581564083596618.\n"
     ]
    },
    {
     "name": "stdout",
     "output_type": "stream",
     "text": [
      "Epoch [10/10], Loss: 0.3469\n"
     ]
    },
    {
     "name": "stderr",
     "output_type": "stream",
     "text": [
      "[I 2024-01-15 22:56:37,227] Trial 48 finished with value: 0.8560581968516456 and parameters: {'n_neurons': 43, 'lr': 0.0006671548719766029}. Best is trial 32 with value: 0.8581564083596618.\n"
     ]
    },
    {
     "name": "stdout",
     "output_type": "stream",
     "text": [
      "Epoch [10/10], Loss: 0.4811\n"
     ]
    },
    {
     "name": "stderr",
     "output_type": "stream",
     "text": [
      "[I 2024-01-15 22:56:38,672] Trial 49 finished with value: 0.8532548203557628 and parameters: {'n_neurons': 27, 'lr': 0.00418675419032195}. Best is trial 32 with value: 0.8581564083596618.\n"
     ]
    },
    {
     "name": "stdout",
     "output_type": "stream",
     "text": [
      "Epoch [10/10], Loss: 0.2610\n"
     ]
    },
    {
     "name": "stderr",
     "output_type": "stream",
     "text": [
      "[I 2024-01-15 22:56:40,102] Trial 50 finished with value: 0.8497307237619861 and parameters: {'n_neurons': 16, 'lr': 0.0013712206888696688}. Best is trial 32 with value: 0.8581564083596618.\n"
     ]
    },
    {
     "name": "stdout",
     "output_type": "stream",
     "text": [
      "Epoch [10/10], Loss: 0.4673\n"
     ]
    },
    {
     "name": "stderr",
     "output_type": "stream",
     "text": [
      "[I 2024-01-15 22:56:41,744] Trial 51 finished with value: 0.8529696433386105 and parameters: {'n_neurons': 33, 'lr': 0.0031315874793576806}. Best is trial 32 with value: 0.8581564083596618.\n"
     ]
    },
    {
     "name": "stdout",
     "output_type": "stream",
     "text": [
      "Epoch [10/10], Loss: 0.3203\n"
     ]
    },
    {
     "name": "stderr",
     "output_type": "stream",
     "text": [
      "[I 2024-01-15 22:56:43,194] Trial 52 finished with value: 0.8553616735915712 and parameters: {'n_neurons': 31, 'lr': 0.002255284272740081}. Best is trial 32 with value: 0.8581564083596618.\n"
     ]
    },
    {
     "name": "stdout",
     "output_type": "stream",
     "text": [
      "Epoch [10/10], Loss: 0.3825\n"
     ]
    },
    {
     "name": "stderr",
     "output_type": "stream",
     "text": [
      "[I 2024-01-15 22:56:44,635] Trial 53 finished with value: 0.853002481904222 and parameters: {'n_neurons': 22, 'lr': 0.004585746488784619}. Best is trial 32 with value: 0.8581564083596618.\n"
     ]
    },
    {
     "name": "stdout",
     "output_type": "stream",
     "text": [
      "Epoch [10/10], Loss: 0.4210\n"
     ]
    },
    {
     "name": "stderr",
     "output_type": "stream",
     "text": [
      "[I 2024-01-15 22:56:46,391] Trial 54 finished with value: 0.8490238304285604 and parameters: {'n_neurons': 36, 'lr': 0.00755417177896284}. Best is trial 32 with value: 0.8581564083596618.\n"
     ]
    },
    {
     "name": "stdout",
     "output_type": "stream",
     "text": [
      "Epoch [10/10], Loss: 0.4030\n"
     ]
    },
    {
     "name": "stderr",
     "output_type": "stream",
     "text": [
      "[I 2024-01-15 22:56:47,997] Trial 55 finished with value: 0.8378915566862776 and parameters: {'n_neurons': 27, 'lr': 0.00019394609183576367}. Best is trial 32 with value: 0.8581564083596618.\n"
     ]
    },
    {
     "name": "stdout",
     "output_type": "stream",
     "text": [
      "Epoch [10/10], Loss: 0.4629\n"
     ]
    },
    {
     "name": "stderr",
     "output_type": "stream",
     "text": [
      "[I 2024-01-15 22:56:49,612] Trial 56 finished with value: 0.8518358486522362 and parameters: {'n_neurons': 21, 'lr': 0.0017773419279686635}. Best is trial 32 with value: 0.8581564083596618.\n"
     ]
    },
    {
     "name": "stdout",
     "output_type": "stream",
     "text": [
      "Epoch [10/10], Loss: 0.4768\n"
     ]
    },
    {
     "name": "stderr",
     "output_type": "stream",
     "text": [
      "[I 2024-01-15 22:56:51,569] Trial 57 finished with value: 0.8502388573561844 and parameters: {'n_neurons': 48, 'lr': 0.003577583330734845}. Best is trial 32 with value: 0.8581564083596618.\n"
     ]
    },
    {
     "name": "stdout",
     "output_type": "stream",
     "text": [
      "Epoch [10/10], Loss: 0.5398\n"
     ]
    },
    {
     "name": "stderr",
     "output_type": "stream",
     "text": [
      "[I 2024-01-15 22:56:53,018] Trial 58 finished with value: 0.8571712513913182 and parameters: {'n_neurons': 31, 'lr': 0.0028799517609003973}. Best is trial 32 with value: 0.8581564083596618.\n"
     ]
    },
    {
     "name": "stdout",
     "output_type": "stream",
     "text": [
      "Epoch [10/10], Loss: 0.3939\n"
     ]
    },
    {
     "name": "stderr",
     "output_type": "stream",
     "text": [
      "[I 2024-01-15 22:56:54,781] Trial 59 finished with value: 0.8547999612850596 and parameters: {'n_neurons': 44, 'lr': 0.001138956282533503}. Best is trial 32 with value: 0.8581564083596618.\n"
     ]
    },
    {
     "name": "stdout",
     "output_type": "stream",
     "text": [
      "Epoch [10/10], Loss: 0.4448\n"
     ]
    },
    {
     "name": "stderr",
     "output_type": "stream",
     "text": [
      "[I 2024-01-15 22:56:56,725] Trial 60 finished with value: 0.853714560274323 and parameters: {'n_neurons': 39, 'lr': 0.0008635004688503751}. Best is trial 32 with value: 0.8581564083596618.\n"
     ]
    },
    {
     "name": "stdout",
     "output_type": "stream",
     "text": [
      "Epoch [10/10], Loss: 0.4037\n"
     ]
    },
    {
     "name": "stderr",
     "output_type": "stream",
     "text": [
      "[I 2024-01-15 22:56:58,340] Trial 61 finished with value: 0.8551041501033552 and parameters: {'n_neurons': 31, 'lr': 0.003394290356801226}. Best is trial 32 with value: 0.8581564083596618.\n"
     ]
    },
    {
     "name": "stdout",
     "output_type": "stream",
     "text": [
      "Epoch [10/10], Loss: 0.3556\n"
     ]
    },
    {
     "name": "stderr",
     "output_type": "stream",
     "text": [
      "[I 2024-01-15 22:57:00,222] Trial 62 finished with value: 0.8528244623116966 and parameters: {'n_neurons': 26, 'lr': 0.0021211516660149705}. Best is trial 32 with value: 0.8581564083596618.\n"
     ]
    },
    {
     "name": "stdout",
     "output_type": "stream",
     "text": [
      "Epoch [10/10], Loss: 0.3506\n"
     ]
    },
    {
     "name": "stderr",
     "output_type": "stream",
     "text": [
      "[I 2024-01-15 22:57:02,303] Trial 63 finished with value: 0.8565404052624666 and parameters: {'n_neurons': 33, 'lr': 0.0026553040838308574}. Best is trial 32 with value: 0.8581564083596618.\n"
     ]
    },
    {
     "name": "stdout",
     "output_type": "stream",
     "text": [
      "Epoch [10/10], Loss: 0.6264\n"
     ]
    },
    {
     "name": "stderr",
     "output_type": "stream",
     "text": [
      "[I 2024-01-15 22:57:03,949] Trial 64 finished with value: 0.8537404854577004 and parameters: {'n_neurons': 19, 'lr': 0.006657814792629641}. Best is trial 32 with value: 0.8581564083596618.\n"
     ]
    },
    {
     "name": "stdout",
     "output_type": "stream",
     "text": [
      "Epoch [10/10], Loss: 0.4024\n"
     ]
    },
    {
     "name": "stderr",
     "output_type": "stream",
     "text": [
      "[I 2024-01-15 22:57:05,648] Trial 65 finished with value: 0.8542555324341328 and parameters: {'n_neurons': 28, 'lr': 0.0028229938854199077}. Best is trial 32 with value: 0.8581564083596618.\n"
     ]
    },
    {
     "name": "stdout",
     "output_type": "stream",
     "text": [
      "Epoch [10/10], Loss: 0.4564\n"
     ]
    },
    {
     "name": "stderr",
     "output_type": "stream",
     "text": [
      "[I 2024-01-15 22:57:07,509] Trial 66 finished with value: 0.8517442463376357 and parameters: {'n_neurons': 36, 'lr': 0.005200844606515075}. Best is trial 32 with value: 0.8581564083596618.\n"
     ]
    },
    {
     "name": "stdout",
     "output_type": "stream",
     "text": [
      "Epoch [10/10], Loss: 0.2983\n"
     ]
    },
    {
     "name": "stderr",
     "output_type": "stream",
     "text": [
      "[I 2024-01-15 22:57:08,959] Trial 67 finished with value: 0.7871577011621396 and parameters: {'n_neurons': 24, 'lr': 5.084932375332865e-05}. Best is trial 32 with value: 0.8581564083596618.\n"
     ]
    },
    {
     "name": "stdout",
     "output_type": "stream",
     "text": [
      "Epoch [10/10], Loss: 0.5648\n"
     ]
    },
    {
     "name": "stderr",
     "output_type": "stream",
     "text": [
      "[I 2024-01-15 22:57:10,694] Trial 68 finished with value: 0.8522195413662227 and parameters: {'n_neurons': 41, 'lr': 0.007996362292364702}. Best is trial 32 with value: 0.8581564083596618.\n"
     ]
    },
    {
     "name": "stdout",
     "output_type": "stream",
     "text": [
      "Epoch [10/10], Loss: 0.3167\n"
     ]
    },
    {
     "name": "stderr",
     "output_type": "stream",
     "text": [
      "[I 2024-01-15 22:57:12,365] Trial 69 finished with value: 0.8541967686851438 and parameters: {'n_neurons': 33, 'lr': 0.0013373815886420148}. Best is trial 32 with value: 0.8581564083596618.\n"
     ]
    },
    {
     "name": "stdout",
     "output_type": "stream",
     "text": [
      "Epoch [10/10], Loss: 0.5854\n"
     ]
    },
    {
     "name": "stderr",
     "output_type": "stream",
     "text": [
      "[I 2024-01-15 22:57:14,078] Trial 70 finished with value: 0.8517822699399227 and parameters: {'n_neurons': 46, 'lr': 0.0003956331754860523}. Best is trial 32 with value: 0.8581564083596618.\n"
     ]
    },
    {
     "name": "stdout",
     "output_type": "stream",
     "text": [
      "Epoch [10/10], Loss: 0.6144\n"
     ]
    },
    {
     "name": "stderr",
     "output_type": "stream",
     "text": [
      "[I 2024-01-15 22:57:15,898] Trial 71 finished with value: 0.8542088671040533 and parameters: {'n_neurons': 65, 'lr': 0.005953799682036173}. Best is trial 32 with value: 0.8581564083596618.\n"
     ]
    },
    {
     "name": "stdout",
     "output_type": "stream",
     "text": [
      "Epoch [10/10], Loss: 0.3912\n"
     ]
    },
    {
     "name": "stderr",
     "output_type": "stream",
     "text": [
      "[I 2024-01-15 22:57:17,707] Trial 72 finished with value: 0.8488509958727108 and parameters: {'n_neurons': 77, 'lr': 0.004520454843880499}. Best is trial 32 with value: 0.8581564083596618.\n"
     ]
    },
    {
     "name": "stdout",
     "output_type": "stream",
     "text": [
      "Epoch [10/10], Loss: 0.5121\n"
     ]
    },
    {
     "name": "stderr",
     "output_type": "stream",
     "text": [
      "[I 2024-01-15 22:57:19,461] Trial 73 finished with value: 0.8452033225715017 and parameters: {'n_neurons': 86, 'lr': 0.009970425989470962}. Best is trial 32 with value: 0.8581564083596618.\n"
     ]
    },
    {
     "name": "stdout",
     "output_type": "stream",
     "text": [
      "Epoch [10/10], Loss: 0.3882\n"
     ]
    },
    {
     "name": "stderr",
     "output_type": "stream",
     "text": [
      "[I 2024-01-15 22:57:21,212] Trial 74 finished with value: 0.8548708234529578 and parameters: {'n_neurons': 51, 'lr': 0.001934010721921569}. Best is trial 32 with value: 0.8581564083596618.\n"
     ]
    },
    {
     "name": "stdout",
     "output_type": "stream",
     "text": [
      "Epoch [10/10], Loss: 0.5219\n"
     ]
    },
    {
     "name": "stderr",
     "output_type": "stream",
     "text": [
      "[I 2024-01-15 22:57:23,102] Trial 75 finished with value: 0.8528676709506592 and parameters: {'n_neurons': 93, 'lr': 0.003075823153910319}. Best is trial 32 with value: 0.8581564083596618.\n"
     ]
    },
    {
     "name": "stdout",
     "output_type": "stream",
     "text": [
      "Epoch [10/10], Loss: 0.3717\n"
     ]
    },
    {
     "name": "stderr",
     "output_type": "stream",
     "text": [
      "[I 2024-01-15 22:57:24,523] Trial 76 finished with value: 0.8545061425401148 and parameters: {'n_neurons': 20, 'lr': 0.0015926933613169588}. Best is trial 32 with value: 0.8581564083596618.\n"
     ]
    },
    {
     "name": "stdout",
     "output_type": "stream",
     "text": [
      "Epoch [10/10], Loss: 0.4531\n"
     ]
    },
    {
     "name": "stderr",
     "output_type": "stream",
     "text": [
      "[I 2024-01-15 22:57:25,964] Trial 77 finished with value: 0.8547325558082781 and parameters: {'n_neurons': 29, 'lr': 0.0009931831822811699}. Best is trial 32 with value: 0.8581564083596618.\n"
     ]
    },
    {
     "name": "stdout",
     "output_type": "stream",
     "text": [
      "Epoch [10/10], Loss: 0.3616\n"
     ]
    },
    {
     "name": "stderr",
     "output_type": "stream",
     "text": [
      "[I 2024-01-15 22:57:27,394] Trial 78 finished with value: 0.852321513754174 and parameters: {'n_neurons': 24, 'lr': 0.0005517039826843703}. Best is trial 32 with value: 0.8581564083596618.\n"
     ]
    },
    {
     "name": "stdout",
     "output_type": "stream",
     "text": [
      "Epoch [10/10], Loss: 0.3912\n"
     ]
    },
    {
     "name": "stderr",
     "output_type": "stream",
     "text": [
      "[I 2024-01-15 22:57:29,198] Trial 79 finished with value: 0.8568152122062676 and parameters: {'n_neurons': 57, 'lr': 0.0007583641932359293}. Best is trial 32 with value: 0.8581564083596618.\n"
     ]
    },
    {
     "name": "stdout",
     "output_type": "stream",
     "text": [
      "Epoch [10/10], Loss: 0.3666\n"
     ]
    },
    {
     "name": "stderr",
     "output_type": "stream",
     "text": [
      "[I 2024-01-15 22:57:30,934] Trial 80 finished with value: 0.8570277987099628 and parameters: {'n_neurons': 38, 'lr': 0.0037572693391825325}. Best is trial 32 with value: 0.8581564083596618.\n"
     ]
    },
    {
     "name": "stdout",
     "output_type": "stream",
     "text": [
      "Epoch [10/10], Loss: 0.4065\n"
     ]
    },
    {
     "name": "stderr",
     "output_type": "stream",
     "text": [
      "[I 2024-01-15 22:57:32,792] Trial 81 finished with value: 0.8485675472011172 and parameters: {'n_neurons': 38, 'lr': 0.003454236765539398}. Best is trial 32 with value: 0.8581564083596618.\n"
     ]
    },
    {
     "name": "stdout",
     "output_type": "stream",
     "text": [
      "Epoch [10/10], Loss: 0.3593\n"
     ]
    },
    {
     "name": "stderr",
     "output_type": "stream",
     "text": [
      "[I 2024-01-15 22:57:34,750] Trial 82 finished with value: 0.8562725117008995 and parameters: {'n_neurons': 35, 'lr': 0.005518507780455245}. Best is trial 32 with value: 0.8581564083596618.\n"
     ]
    },
    {
     "name": "stdout",
     "output_type": "stream",
     "text": [
      "Epoch [10/10], Loss: 0.5593\n"
     ]
    },
    {
     "name": "stderr",
     "output_type": "stream",
     "text": [
      "[I 2024-01-15 22:57:36,635] Trial 83 finished with value: 0.8572075466480468 and parameters: {'n_neurons': 32, 'lr': 0.0040428763519800345}. Best is trial 32 with value: 0.8581564083596618.\n"
     ]
    },
    {
     "name": "stdout",
     "output_type": "stream",
     "text": [
      "Epoch [10/10], Loss: 0.3471\n"
     ]
    },
    {
     "name": "stderr",
     "output_type": "stream",
     "text": [
      "[I 2024-01-15 22:57:38,274] Trial 84 finished with value: 0.8539254184324597 and parameters: {'n_neurons': 30, 'lr': 0.004006300674781358}. Best is trial 32 with value: 0.8581564083596618.\n"
     ]
    },
    {
     "name": "stdout",
     "output_type": "stream",
     "text": [
      "Epoch [10/10], Loss: 0.4037\n"
     ]
    },
    {
     "name": "stderr",
     "output_type": "stream",
     "text": [
      "[I 2024-01-15 22:57:39,817] Trial 85 finished with value: 0.8531908715700983 and parameters: {'n_neurons': 25, 'lr': 0.0022884077703203606}. Best is trial 32 with value: 0.8581564083596618.\n"
     ]
    },
    {
     "name": "stdout",
     "output_type": "stream",
     "text": [
      "Epoch [10/10], Loss: 0.4975\n"
     ]
    },
    {
     "name": "stderr",
     "output_type": "stream",
     "text": [
      "[I 2024-01-15 22:57:41,719] Trial 86 finished with value: 0.8538856664846144 and parameters: {'n_neurons': 32, 'lr': 0.0027468438874982}. Best is trial 32 with value: 0.8581564083596618.\n"
     ]
    },
    {
     "name": "stdout",
     "output_type": "stream",
     "text": [
      "Epoch [10/10], Loss: 0.3770\n"
     ]
    },
    {
     "name": "stderr",
     "output_type": "stream",
     "text": [
      "[I 2024-01-15 22:57:43,780] Trial 87 finished with value: 0.8552873547325558 and parameters: {'n_neurons': 37, 'lr': 0.0019524796493261604}. Best is trial 32 with value: 0.8581564083596618.\n"
     ]
    },
    {
     "name": "stdout",
     "output_type": "stream",
     "text": [
      "Epoch [10/10], Loss: 0.3822\n"
     ]
    },
    {
     "name": "stderr",
     "output_type": "stream",
     "text": [
      "[I 2024-01-15 22:57:45,735] Trial 88 finished with value: 0.8530992692554978 and parameters: {'n_neurons': 42, 'lr': 0.0012639272288908518}. Best is trial 32 with value: 0.8581564083596618.\n"
     ]
    },
    {
     "name": "stdout",
     "output_type": "stream",
     "text": [
      "Epoch [10/10], Loss: 0.5301\n"
     ]
    },
    {
     "name": "stderr",
     "output_type": "stream",
     "text": [
      "[I 2024-01-15 22:57:47,270] Trial 89 finished with value: 0.8513605536236493 and parameters: {'n_neurons': 18, 'lr': 0.007746013244257485}. Best is trial 32 with value: 0.8581564083596618.\n"
     ]
    },
    {
     "name": "stdout",
     "output_type": "stream",
     "text": [
      "Epoch [10/10], Loss: 0.3056\n"
     ]
    },
    {
     "name": "stderr",
     "output_type": "stream",
     "text": [
      "[I 2024-01-15 22:57:48,725] Trial 90 finished with value: 0.8549451423119734 and parameters: {'n_neurons': 28, 'lr': 0.004739946284480021}. Best is trial 32 with value: 0.8581564083596618.\n"
     ]
    },
    {
     "name": "stdout",
     "output_type": "stream",
     "text": [
      "Epoch [10/10], Loss: 0.3592\n"
     ]
    },
    {
     "name": "stderr",
     "output_type": "stream",
     "text": [
      "[I 2024-01-15 22:57:50,164] Trial 91 finished with value: 0.8542970127275367 and parameters: {'n_neurons': 21, 'lr': 0.003614143188056289}. Best is trial 32 with value: 0.8581564083596618.\n"
     ]
    },
    {
     "name": "stdout",
     "output_type": "stream",
     "text": [
      "Epoch [10/10], Loss: 0.3003\n"
     ]
    },
    {
     "name": "stderr",
     "output_type": "stream",
     "text": [
      "[I 2024-01-15 22:57:51,988] Trial 92 finished with value: 0.8512240143245281 and parameters: {'n_neurons': 34, 'lr': 0.001615333265789443}. Best is trial 32 with value: 0.8581564083596618.\n"
     ]
    },
    {
     "name": "stdout",
     "output_type": "stream",
     "text": [
      "Epoch [10/10], Loss: 0.5618\n"
     ]
    },
    {
     "name": "stderr",
     "output_type": "stream",
     "text": [
      "[I 2024-01-15 22:57:53,975] Trial 93 finished with value: 0.8524908916189068 and parameters: {'n_neurons': 38, 'lr': 0.0024499461599909833}. Best is trial 32 with value: 0.8581564083596618.\n"
     ]
    },
    {
     "name": "stdout",
     "output_type": "stream",
     "text": [
      "Epoch [10/10], Loss: 0.4479\n"
     ]
    },
    {
     "name": "stderr",
     "output_type": "stream",
     "text": [
      "[I 2024-01-15 22:57:56,012] Trial 94 finished with value: 0.8512067308689428 and parameters: {'n_neurons': 110, 'lr': 0.00649048038849362}. Best is trial 32 with value: 0.8581564083596618.\n"
     ]
    },
    {
     "name": "stdout",
     "output_type": "stream",
     "text": [
      "Epoch [10/10], Loss: 0.3256\n"
     ]
    },
    {
     "name": "stderr",
     "output_type": "stream",
     "text": [
      "[I 2024-01-15 22:57:57,604] Trial 95 finished with value: 0.8527086631592774 and parameters: {'n_neurons': 25, 'lr': 0.0030893808930047353}. Best is trial 32 with value: 0.8581564083596618.\n"
     ]
    },
    {
     "name": "stdout",
     "output_type": "stream",
     "text": [
      "Epoch [10/10], Loss: 0.5355\n"
     ]
    },
    {
     "name": "stderr",
     "output_type": "stream",
     "text": [
      "[I 2024-01-15 22:57:59,065] Trial 96 finished with value: 0.85271730488707 and parameters: {'n_neurons': 30, 'lr': 0.00422417661219771}. Best is trial 32 with value: 0.8581564083596618.\n"
     ]
    },
    {
     "name": "stdout",
     "output_type": "stream",
     "text": [
      "Epoch [10/10], Loss: 0.4120\n"
     ]
    },
    {
     "name": "stderr",
     "output_type": "stream",
     "text": [
      "[I 2024-01-15 22:58:00,810] Trial 97 finished with value: 0.8567270665827843 and parameters: {'n_neurons': 45, 'lr': 0.0020560218513706865}. Best is trial 32 with value: 0.8581564083596618.\n"
     ]
    },
    {
     "name": "stdout",
     "output_type": "stream",
     "text": [
      "Epoch [10/10], Loss: 0.3676\n"
     ]
    },
    {
     "name": "stderr",
     "output_type": "stream",
     "text": [
      "[I 2024-01-15 22:58:02,858] Trial 98 finished with value: 0.8530353204698335 and parameters: {'n_neurons': 40, 'lr': 0.0057586937932787895}. Best is trial 32 with value: 0.8581564083596618.\n"
     ]
    },
    {
     "name": "stdout",
     "output_type": "stream",
     "text": [
      "Epoch [10/10], Loss: 0.4009\n"
     ]
    },
    {
     "name": "stderr",
     "output_type": "stream",
     "text": [
      "[I 2024-01-15 22:58:04,403] Trial 99 finished with value: 0.8545355244146094 and parameters: {'n_neurons': 16, 'lr': 0.0050096185885727925}. Best is trial 32 with value: 0.8581564083596618.\n"
     ]
    },
    {
     "name": "stdout",
     "output_type": "stream",
     "text": [
      "Epoch [10/10], Loss: 0.4951\n",
      "Лучшие параметры: {'n_neurons': 28, 'lr': 0.0015358888872681717}\n",
      "Лучшая ROC-AUC оценка: 0.8581564083596618\n"
     ]
    }
   ],
   "source": [
    "class NeuralNetwork(nn.Module):\n",
    "    def __init__(self, input_size, n_neurons):\n",
    "        super(NeuralNetwork, self).__init__()\n",
    "        self.fc1 = nn.Linear(input_size, n_neurons)\n",
    "        self.fc2 = nn.Linear(n_neurons, 32)\n",
    "        self.fc3 = nn.Linear(32, 16)\n",
    "        self.fc4 = nn.Linear(16, 1)\n",
    "\n",
    "    def forward(self, x):\n",
    "        x = F.relu(self.fc1(x))\n",
    "        x = F.relu(self.fc2(x))\n",
    "        x = F.relu(self.fc3(x))\n",
    "        x = torch.sigmoid(self.fc4(x))\n",
    "        return x\n",
    "\n",
    "def objective(trial):\n",
    "    # Определиv гиперпараметры, которые необходимо оптимизировать\n",
    "    n_neurons = trial.suggest_int('n_neurons', 16, 128)  # Количество нейронов в скрытом слое  \n",
    "    lr = trial.suggest_float('lr', 1e-5, 1e-2, log=True) # Скорость обучения\n",
    "\n",
    "    # Определим модель\n",
    "    model = NeuralNetwork(input_size=X_train_modified.shape[1], n_neurons=n_neurons)\n",
    "    model.to(device)\n",
    "\n",
    "    # Определим оптимизатор со скоростью обучения\n",
    "    optimizer = optim.Adam(model.parameters(), lr=lr)\n",
    "\n",
    "    # Тренировочный цикл\n",
    "    n_epochs = 10\n",
    "    for epoch in range(n_epochs):\n",
    "        model.train()\n",
    "        for data, target in train_loader:\n",
    "            data, target = data.to(device), target.to(device)\n",
    "            # Прямой проход\n",
    "            output = model(data)\n",
    "            loss = criterion(output, target.unsqueeze(1))\n",
    "            # Обратный проход и оптимизация\n",
    "            optimizer.zero_grad()\n",
    "            loss.backward()\n",
    "            optimizer.step()\n",
    "\n",
    "    print(f\"Epoch [{epoch+1}/{num_epochs}], Loss: {loss.item():.4f}\")\n",
    "    \n",
    "    # Оценка модели\n",
    "    model.eval()\n",
    "    with torch.no_grad():\n",
    "        y_pred = model(X_test_tensor.to(device))\n",
    "        y_pred = y_pred.cpu().numpy()\n",
    "        roc_score = roc_auc_score(y_test, y_pred)\n",
    "    \n",
    "    return roc_score\n",
    "\n",
    "# Optuna исследование\n",
    "study = optuna.create_study(direction='maximize')\n",
    "study.optimize(objective, n_trials=100)  # Number of trials\n",
    "\n",
    "# Лучшие гиперпараметры\n",
    "best_params = study.best_params\n",
    "best_score = study.best_value\n",
    "print(\"Лучшие параметры:\", best_params)\n",
    "print(\"Лучшая ROC-AUC оценка:\", best_score)"
   ]
  },
  {
   "cell_type": "markdown",
   "metadata": {},
   "source": [
    "Оптимизация гиперпараметров с помощью Optuna определила лучшие параметры для нашей модели нейронной сети:\n",
    "\n",
    "- **Количество нейронов в скрытом слое (n_neurons)**: 124\n",
    "- **Скорость обучения (lr)**: 0,00148\n",
    "\n",
    "И эти параметры достигли показателя ROC-AUC примерно 0.859, что является сильным показателем производительности нашей модели.\n",
    "Следующие шаги:\n",
    "\n",
    "1. **Обучение модели с оптимальными параметрами:**\n",
    "    - Используя эти оптимальные гиперпараметры для обучения окончательной модели нейронной сети. Это должно улучшить способность модели точно прогнозировать отток клиентов.\n",
    "\n",
    "\n",
    "2. **Оценка на тестовых данных:**\n",
    "    - После обучения оценить модель в своем наборе тестовых данных, чтобы оценить ее эффективность обобщения."
   ]
  },
  {
   "cell_type": "code",
   "execution_count": 14,
   "metadata": {},
   "outputs": [
    {
     "name": "stdout",
     "output_type": "stream",
     "text": [
      "Epoch [1/10], Loss: 0.4600\n",
      "Epoch [2/10], Loss: 0.3834\n",
      "Epoch [3/10], Loss: 0.3104\n",
      "Epoch [4/10], Loss: 0.5673\n",
      "Epoch [5/10], Loss: 0.4658\n",
      "Epoch [6/10], Loss: 0.2646\n",
      "Epoch [7/10], Loss: 0.5517\n",
      "Epoch [8/10], Loss: 0.4003\n",
      "Epoch [9/10], Loss: 0.4343\n",
      "Epoch [10/10], Loss: 0.2829\n"
     ]
    },
    {
     "data": {
      "text/plain": [
       "0.8554705593617565"
      ]
     },
     "execution_count": 14,
     "metadata": {},
     "output_type": "execute_result"
    }
   ],
   "source": [
    "# Переопределение модели нейронной сети с оптимальными гиперпараметрами\n",
    "class OptimalNeuralNetwork(nn.Module):\n",
    "    def __init__(self, input_size, n_neurons):\n",
    "        super(OptimalNeuralNetwork, self).__init__()\n",
    "        self.fc1 = nn.Linear(input_size, n_neurons)\n",
    "        self.fc2 = nn.Linear(n_neurons, 32)\n",
    "        self.fc3 = nn.Linear(32, 16)\n",
    "        self.fc4 = nn.Linear(16, 1)\n",
    "\n",
    "    def forward(self, x):\n",
    "        x = F.relu(self.fc1(x))\n",
    "        x = F.relu(self.fc2(x))\n",
    "        x = F.relu(self.fc3(x))\n",
    "        x = torch.sigmoid(self.fc4(x))\n",
    "        return x\n",
    "\n",
    "# Лучшие параметры от Optuna\n",
    "best_n_neurons = 124\n",
    "best_lr = 0.0014829535677354081\n",
    "\n",
    "# Инициализируем оптимальную нейронную сеть\n",
    "optimal_model = OptimalNeuralNetwork(input_size=X_train_modified.shape[1], n_neurons=best_n_neurons).to(device)\n",
    "\n",
    "# Оптимизатор с лучшей скоростью обучения\n",
    "optimizer = torch.optim.Adam(optimal_model.parameters(), lr=best_lr)\n",
    "\n",
    "# Обучение оптимальной модели\n",
    "num_epochs = 10\n",
    "for epoch in range(num_epochs):\n",
    "    optimal_model.train()\n",
    "    for data, target in train_loader:\n",
    "        data, target = data.to(device), target.to(device)\n",
    "        output = optimal_model(data)\n",
    "        loss = criterion(output, target.unsqueeze(1))\n",
    "        optimizer.zero_grad()\n",
    "        loss.backward()\n",
    "        optimizer.step()\n",
    "\n",
    "    print(f\"Epoch [{epoch+1}/{num_epochs}], Loss: {loss.item():.4f}\")\n",
    "\n",
    "# Оценка оптимальной модели на тестовых данных\n",
    "optimal_model.eval()\n",
    "with torch.no_grad():\n",
    "    y_pred = optimal_model(X_test_tensor.to(device))\n",
    "    y_pred = y_pred.cpu().numpy()\n",
    "    optimal_roc_score = roc_auc_score(y_test, y_pred)\n",
    "\n",
    "optimal_roc_score"
   ]
  },
  {
   "cell_type": "markdown",
   "metadata": {},
   "source": [
    "## 4. Оценка Модели"
   ]
  },
  {
   "cell_type": "code",
   "execution_count": 15,
   "metadata": {},
   "outputs": [],
   "source": [
    "optimal_model.eval()\n",
    "with torch.no_grad():\n",
    "    y_pred_proba = optimal_model(X_test_tensor.to(device)).cpu().numpy()\n",
    "    y_pred = (y_pred_proba > 0.5).astype(int)  # Предполагая порог 0,5\n",
    "\n",
    "roc_auc = roc_auc_score(y_test, y_pred_proba)\n",
    "accuracy = accuracy_score(y_test, y_pred)"
   ]
  },
  {
   "cell_type": "code",
   "execution_count": 16,
   "metadata": {},
   "outputs": [
    {
     "data": {
      "image/png": "[encoded data removed]",
      "text/plain": [
       "<Figure size 432x288 with 2 Axes>"
      ]
     },
     "metadata": {},
     "output_type": "display_data"
    },
    {
     "data": {
      "image/png": "[encoded data removed]",
      "text/plain": [
       "<Figure size 432x288 with 1 Axes>"
      ]
     },
     "metadata": {},
     "output_type": "display_data"
    }
   ],
   "source": [
    "# Матрица ошибок\n",
    "cm = confusion_matrix(y_test, y_pred)\n",
    "sns.heatmap(cm, annot=True, fmt='d')\n",
    "plt.title('Матрица ошибок')\n",
    "plt.ylabel('Фактическое значение')\n",
    "plt.xlabel('Спрогнозированное значение')\n",
    "plt.show()\n",
    "\n",
    "# Кривая Precision-Recall\n",
    "precision, recall, _ = precision_recall_curve(y_test, y_pred_proba)\n",
    "plt.plot(recall, precision, marker='.')\n",
    "plt.title('Кривая Precision-Recall')\n",
    "plt.xlabel('Recall')\n",
    "plt.ylabel('Precision')\n",
    "plt.show()"
   ]
  },
  {
   "cell_type": "code",
   "execution_count": null,
   "metadata": {},
   "outputs": [],
   "source": []
  }
 ],
 "metadata": {
  "kernelspec": {
   "display_name": "Python 3",
   "language": "python",
   "name": "python3"
  },
  "language_info": {
   "codemirror_mode": {
    "name": "ipython",
    "version": 3
   },
   "file_extension": ".py",
   "mimetype": "text/x-python",
   "name": "python",
   "nbconvert_exporter": "python",
   "pygments_lexer": "ipython3",
   "version": "3.7.3"
  }
 },
 "nbformat": 4,
 "nbformat_minor": 2
}
